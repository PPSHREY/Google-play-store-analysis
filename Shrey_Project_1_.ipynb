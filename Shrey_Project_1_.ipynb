{
 "cells": [
  {
   "cell_type": "markdown",
   "id": "cfe89b15",
   "metadata": {},
   "source": [
    "# Analyzing Google Play Store Data\n",
    "      "
   ]
  },
  {
   "cell_type": "markdown",
   "id": "1993d029",
   "metadata": {},
   "source": [
    "## Installing Required Libraries \n",
    "    1] Numpy\n",
    "    2] Pandas\n",
    "    3] MatplotLib\n",
    "    4] Seaborn\n",
    "    5] Jovian\n",
    "    \n",
    "  Install all the Libraries Before Starting Your Project "
   ]
  },
  {
   "cell_type": "code",
   "execution_count": 95,
   "id": "75a12334",
   "metadata": {},
   "outputs": [],
   "source": [
    "!pip install jovian opendatasets --upgrade --quiet\n"
   ]
  },
  {
   "cell_type": "code",
   "execution_count": 2,
   "id": "5e2db47d",
   "metadata": {},
   "outputs": [],
   "source": [
    "project_name = \"Google-play-store-analysis\""
   ]
  },
  {
   "cell_type": "code",
   "execution_count": 3,
   "id": "a60dec6a",
   "metadata": {},
   "outputs": [],
   "source": [
    "!pip install jovian --upgrade -q"
   ]
  },
  {
   "cell_type": "code",
   "execution_count": 4,
   "id": "28c404c9",
   "metadata": {},
   "outputs": [],
   "source": [
    "import jovian"
   ]
  },
  {
   "cell_type": "code",
   "execution_count": 5,
   "id": "ae26f8ae",
   "metadata": {},
   "outputs": [
    {
     "data": {
      "application/javascript": [
       "window.require && require([\"base/js/namespace\"],function(Jupyter){Jupyter.notebook.save_checkpoint()})"
      ],
      "text/plain": [
       "<IPython.core.display.Javascript object>"
      ]
     },
     "metadata": {},
     "output_type": "display_data"
    },
    {
     "name": "stdout",
     "output_type": "stream",
     "text": [
      "[jovian] Updating notebook \"shrey2627/google-play-store-analysis\" on https://jovian.ai\u001b[0m\n",
      "[jovian] Committed successfully! https://jovian.ai/shrey2627/google-play-store-analysis\u001b[0m\n"
     ]
    },
    {
     "data": {
      "text/plain": [
       "'https://jovian.ai/shrey2627/google-play-store-analysis'"
      ]
     },
     "execution_count": 5,
     "metadata": {},
     "output_type": "execute_result"
    }
   ],
   "source": [
    "jovian.commit(project=project_name)"
   ]
  },
  {
   "cell_type": "code",
   "execution_count": 6,
   "id": "4134b38a",
   "metadata": {},
   "outputs": [],
   "source": [
    "import numpy as np\n",
    "import pandas as pd\n",
    "import matplotlib\n",
    "import matplotlib.pyplot as plt\n",
    "import seaborn as sns\n",
    "%matplotlib inline"
   ]
  },
  {
   "cell_type": "code",
   "execution_count": 7,
   "id": "2efa0569",
   "metadata": {},
   "outputs": [],
   "source": [
    "import warnings\n",
    "warnings.filterwarnings('ignore')"
   ]
  },
  {
   "cell_type": "markdown",
   "id": "4c7bd537",
   "metadata": {},
   "source": [
    "## Getting Dataset \n",
    "    Here we I am taking dataset from Kaggle \n",
    "    https://www.kaggle.com/datasets/lava18/google-play-store-apps"
   ]
  },
  {
   "cell_type": "code",
   "execution_count": 8,
   "id": "0f877176",
   "metadata": {},
   "outputs": [],
   "source": [
    "apps_df = pd.read_csv(\"googleplaystore2.csv\")\n"
   ]
  },
  {
   "cell_type": "markdown",
   "id": "a7c3baad",
   "metadata": {},
   "source": [
    "## Reading Dataset \n",
    "    Lets go through the entire dataset\n",
    "    "
   ]
  },
  {
   "cell_type": "code",
   "execution_count": 9,
   "id": "9f76929c",
   "metadata": {
    "scrolled": true
   },
   "outputs": [
    {
     "data": {
      "text/html": [
       "<div>\n",
       "<style scoped>\n",
       "    .dataframe tbody tr th:only-of-type {\n",
       "        vertical-align: middle;\n",
       "    }\n",
       "\n",
       "    .dataframe tbody tr th {\n",
       "        vertical-align: top;\n",
       "    }\n",
       "\n",
       "    .dataframe thead th {\n",
       "        text-align: right;\n",
       "    }\n",
       "</style>\n",
       "<table border=\"1\" class=\"dataframe\">\n",
       "  <thead>\n",
       "    <tr style=\"text-align: right;\">\n",
       "      <th></th>\n",
       "      <th>App</th>\n",
       "      <th>Category</th>\n",
       "      <th>Rating</th>\n",
       "      <th>Reviews</th>\n",
       "      <th>Size</th>\n",
       "      <th>Installs</th>\n",
       "      <th>Type</th>\n",
       "      <th>Price</th>\n",
       "      <th>Content Rating</th>\n",
       "      <th>Genres</th>\n",
       "      <th>Android Ver</th>\n",
       "    </tr>\n",
       "  </thead>\n",
       "  <tbody>\n",
       "    <tr>\n",
       "      <th>0</th>\n",
       "      <td>Photo Editor &amp; Candy Camera &amp; Grid &amp; ScrapBook</td>\n",
       "      <td>ART_AND_DESIGN</td>\n",
       "      <td>4.1</td>\n",
       "      <td>159</td>\n",
       "      <td>19M</td>\n",
       "      <td>10,000+</td>\n",
       "      <td>Free</td>\n",
       "      <td>0</td>\n",
       "      <td>Everyone</td>\n",
       "      <td>Art &amp; Design</td>\n",
       "      <td>4.0.3 and up</td>\n",
       "    </tr>\n",
       "    <tr>\n",
       "      <th>1</th>\n",
       "      <td>Coloring book moana</td>\n",
       "      <td>ART_AND_DESIGN</td>\n",
       "      <td>3.9</td>\n",
       "      <td>967</td>\n",
       "      <td>14M</td>\n",
       "      <td>500,000+</td>\n",
       "      <td>Free</td>\n",
       "      <td>0</td>\n",
       "      <td>Everyone</td>\n",
       "      <td>Art &amp; Design;Pretend Play</td>\n",
       "      <td>4.0.3 and up</td>\n",
       "    </tr>\n",
       "    <tr>\n",
       "      <th>2</th>\n",
       "      <td>U Launcher Lite – FREE Live Cool Themes, Hide ...</td>\n",
       "      <td>ART_AND_DESIGN</td>\n",
       "      <td>4.7</td>\n",
       "      <td>87510</td>\n",
       "      <td>8.7M</td>\n",
       "      <td>5,000,000+</td>\n",
       "      <td>Free</td>\n",
       "      <td>0</td>\n",
       "      <td>Everyone</td>\n",
       "      <td>Art &amp; Design</td>\n",
       "      <td>4.0.3 and up</td>\n",
       "    </tr>\n",
       "    <tr>\n",
       "      <th>3</th>\n",
       "      <td>Sketch - Draw &amp; Paint</td>\n",
       "      <td>ART_AND_DESIGN</td>\n",
       "      <td>4.5</td>\n",
       "      <td>215644</td>\n",
       "      <td>25M</td>\n",
       "      <td>50,000,000+</td>\n",
       "      <td>Free</td>\n",
       "      <td>0</td>\n",
       "      <td>Teen</td>\n",
       "      <td>Art &amp; Design</td>\n",
       "      <td>4.2 and up</td>\n",
       "    </tr>\n",
       "    <tr>\n",
       "      <th>4</th>\n",
       "      <td>Pixel Draw - Number Art Coloring Book</td>\n",
       "      <td>ART_AND_DESIGN</td>\n",
       "      <td>4.3</td>\n",
       "      <td>967</td>\n",
       "      <td>2.8M</td>\n",
       "      <td>100,000+</td>\n",
       "      <td>Free</td>\n",
       "      <td>0</td>\n",
       "      <td>Everyone</td>\n",
       "      <td>Art &amp; Design;Creativity</td>\n",
       "      <td>4.4 and up</td>\n",
       "    </tr>\n",
       "    <tr>\n",
       "      <th>...</th>\n",
       "      <td>...</td>\n",
       "      <td>...</td>\n",
       "      <td>...</td>\n",
       "      <td>...</td>\n",
       "      <td>...</td>\n",
       "      <td>...</td>\n",
       "      <td>...</td>\n",
       "      <td>...</td>\n",
       "      <td>...</td>\n",
       "      <td>...</td>\n",
       "      <td>...</td>\n",
       "    </tr>\n",
       "    <tr>\n",
       "      <th>10836</th>\n",
       "      <td>Sya9a Maroc - FR</td>\n",
       "      <td>FAMILY</td>\n",
       "      <td>4.5</td>\n",
       "      <td>38</td>\n",
       "      <td>53M</td>\n",
       "      <td>5,000+</td>\n",
       "      <td>Free</td>\n",
       "      <td>0</td>\n",
       "      <td>Everyone</td>\n",
       "      <td>Education</td>\n",
       "      <td>4.1 and up</td>\n",
       "    </tr>\n",
       "    <tr>\n",
       "      <th>10837</th>\n",
       "      <td>Fr. Mike Schmitz Audio Teachings</td>\n",
       "      <td>FAMILY</td>\n",
       "      <td>5.0</td>\n",
       "      <td>4</td>\n",
       "      <td>3.6M</td>\n",
       "      <td>100+</td>\n",
       "      <td>Free</td>\n",
       "      <td>0</td>\n",
       "      <td>Everyone</td>\n",
       "      <td>Education</td>\n",
       "      <td>4.1 and up</td>\n",
       "    </tr>\n",
       "    <tr>\n",
       "      <th>10838</th>\n",
       "      <td>Parkinson Exercices FR</td>\n",
       "      <td>MEDICAL</td>\n",
       "      <td>NaN</td>\n",
       "      <td>3</td>\n",
       "      <td>9.5M</td>\n",
       "      <td>1,000+</td>\n",
       "      <td>Free</td>\n",
       "      <td>0</td>\n",
       "      <td>Everyone</td>\n",
       "      <td>Medical</td>\n",
       "      <td>2.2 and up</td>\n",
       "    </tr>\n",
       "    <tr>\n",
       "      <th>10839</th>\n",
       "      <td>The SCP Foundation DB fr nn5n</td>\n",
       "      <td>BOOKS_AND_REFERENCE</td>\n",
       "      <td>4.5</td>\n",
       "      <td>114</td>\n",
       "      <td>Varies with device</td>\n",
       "      <td>1,000+</td>\n",
       "      <td>Free</td>\n",
       "      <td>0</td>\n",
       "      <td>Mature 17+</td>\n",
       "      <td>Books &amp; Reference</td>\n",
       "      <td>Varies with device</td>\n",
       "    </tr>\n",
       "    <tr>\n",
       "      <th>10840</th>\n",
       "      <td>iHoroscope - 2018 Daily Horoscope &amp; Astrology</td>\n",
       "      <td>LIFESTYLE</td>\n",
       "      <td>4.5</td>\n",
       "      <td>398307</td>\n",
       "      <td>19M</td>\n",
       "      <td>10,000,000+</td>\n",
       "      <td>Free</td>\n",
       "      <td>0</td>\n",
       "      <td>Everyone</td>\n",
       "      <td>Lifestyle</td>\n",
       "      <td>Varies with device</td>\n",
       "    </tr>\n",
       "  </tbody>\n",
       "</table>\n",
       "<p>10841 rows × 11 columns</p>\n",
       "</div>"
      ],
      "text/plain": [
       "                                                     App             Category  \\\n",
       "0         Photo Editor & Candy Camera & Grid & ScrapBook       ART_AND_DESIGN   \n",
       "1                                    Coloring book moana       ART_AND_DESIGN   \n",
       "2      U Launcher Lite – FREE Live Cool Themes, Hide ...       ART_AND_DESIGN   \n",
       "3                                  Sketch - Draw & Paint       ART_AND_DESIGN   \n",
       "4                  Pixel Draw - Number Art Coloring Book       ART_AND_DESIGN   \n",
       "...                                                  ...                  ...   \n",
       "10836                                   Sya9a Maroc - FR               FAMILY   \n",
       "10837                   Fr. Mike Schmitz Audio Teachings               FAMILY   \n",
       "10838                             Parkinson Exercices FR              MEDICAL   \n",
       "10839                      The SCP Foundation DB fr nn5n  BOOKS_AND_REFERENCE   \n",
       "10840      iHoroscope - 2018 Daily Horoscope & Astrology            LIFESTYLE   \n",
       "\n",
       "       Rating Reviews                Size     Installs  Type Price  \\\n",
       "0         4.1     159                 19M      10,000+  Free     0   \n",
       "1         3.9     967                 14M     500,000+  Free     0   \n",
       "2         4.7   87510                8.7M   5,000,000+  Free     0   \n",
       "3         4.5  215644                 25M  50,000,000+  Free     0   \n",
       "4         4.3     967                2.8M     100,000+  Free     0   \n",
       "...       ...     ...                 ...          ...   ...   ...   \n",
       "10836     4.5      38                 53M       5,000+  Free     0   \n",
       "10837     5.0       4                3.6M         100+  Free     0   \n",
       "10838     NaN       3                9.5M       1,000+  Free     0   \n",
       "10839     4.5     114  Varies with device       1,000+  Free     0   \n",
       "10840     4.5  398307                 19M  10,000,000+  Free     0   \n",
       "\n",
       "      Content Rating                     Genres         Android Ver  \n",
       "0           Everyone               Art & Design        4.0.3 and up  \n",
       "1           Everyone  Art & Design;Pretend Play        4.0.3 and up  \n",
       "2           Everyone               Art & Design        4.0.3 and up  \n",
       "3               Teen               Art & Design          4.2 and up  \n",
       "4           Everyone    Art & Design;Creativity          4.4 and up  \n",
       "...              ...                        ...                 ...  \n",
       "10836       Everyone                  Education          4.1 and up  \n",
       "10837       Everyone                  Education          4.1 and up  \n",
       "10838       Everyone                    Medical          2.2 and up  \n",
       "10839     Mature 17+          Books & Reference  Varies with device  \n",
       "10840       Everyone                  Lifestyle  Varies with device  \n",
       "\n",
       "[10841 rows x 11 columns]"
      ]
     },
     "execution_count": 9,
     "metadata": {},
     "output_type": "execute_result"
    }
   ],
   "source": [
    "apps_df"
   ]
  },
  {
   "cell_type": "code",
   "execution_count": 10,
   "id": "c30da650",
   "metadata": {},
   "outputs": [
    {
     "name": "stdout",
     "output_type": "stream",
     "text": [
      "<class 'pandas.core.frame.DataFrame'>\n",
      "RangeIndex: 10841 entries, 0 to 10840\n",
      "Data columns (total 11 columns):\n",
      " #   Column          Non-Null Count  Dtype  \n",
      "---  ------          --------------  -----  \n",
      " 0   App             10841 non-null  object \n",
      " 1   Category        10841 non-null  object \n",
      " 2   Rating          9367 non-null   float64\n",
      " 3   Reviews         10841 non-null  object \n",
      " 4   Size            10841 non-null  object \n",
      " 5   Installs        10841 non-null  object \n",
      " 6   Type            10840 non-null  object \n",
      " 7   Price           10841 non-null  object \n",
      " 8   Content Rating  10840 non-null  object \n",
      " 9   Genres          10841 non-null  object \n",
      " 10  Android Ver     10838 non-null  object \n",
      "dtypes: float64(1), object(10)\n",
      "memory usage: 931.8+ KB\n"
     ]
    }
   ],
   "source": [
    "apps_df.info()"
   ]
  },
  {
   "cell_type": "code",
   "execution_count": 11,
   "id": "31243a6a",
   "metadata": {},
   "outputs": [
    {
     "data": {
      "text/plain": [
       "Index(['App', 'Category', 'Rating', 'Reviews', 'Size', 'Installs', 'Type',\n",
       "       'Price', 'Content Rating', 'Genres', 'Android Ver'],\n",
       "      dtype='object')"
      ]
     },
     "execution_count": 11,
     "metadata": {},
     "output_type": "execute_result"
    }
   ],
   "source": [
    "apps_df.columns"
   ]
  },
  {
   "cell_type": "code",
   "execution_count": 12,
   "id": "1d4258e3",
   "metadata": {},
   "outputs": [
    {
     "data": {
      "text/plain": [
       "(10841, 11)"
      ]
     },
     "execution_count": 12,
     "metadata": {},
     "output_type": "execute_result"
    }
   ],
   "source": [
    "apps_df.shape"
   ]
  },
  {
   "cell_type": "markdown",
   "id": "1fab1f65",
   "metadata": {},
   "source": [
    "# Data Cleaning and Transforming\n",
    "    Here we will perform some cleaning methods to remove Null values and change data types of columns \n",
    "    "
   ]
  },
  {
   "cell_type": "code",
   "execution_count": 13,
   "id": "615f4920",
   "metadata": {},
   "outputs": [
    {
     "data": {
      "text/plain": [
       "array([ 4.1,  3.9,  4.7,  4.5,  4.3,  4.4,  3.8,  4.2,  4.6,  3.2,  4. ,\n",
       "        nan,  4.8,  4.9,  3.6,  3.7,  3.3,  3.4,  3.5,  3.1,  5. ,  2.6,\n",
       "        3. ,  1.9,  2.5,  2.8,  2.7,  1. ,  2.9,  2.3,  2.2,  1.7,  2. ,\n",
       "        1.8,  2.4,  1.6,  2.1,  1.4,  1.5,  1.2, 19. ])"
      ]
     },
     "execution_count": 13,
     "metadata": {},
     "output_type": "execute_result"
    }
   ],
   "source": [
    "apps_df['Rating'].unique()"
   ]
  },
  {
   "cell_type": "markdown",
   "id": "140c4d84",
   "metadata": {},
   "source": [
    "Here in the column Ratings we have one row with more than 5 value, Lets Drop the row."
   ]
  },
  {
   "cell_type": "code",
   "execution_count": 14,
   "id": "9b8f6986",
   "metadata": {},
   "outputs": [],
   "source": [
    "apps_df.drop(apps_df[apps_df.Rating > 5].index, inplace = True)"
   ]
  },
  {
   "cell_type": "code",
   "execution_count": 15,
   "id": "1fbb4871",
   "metadata": {},
   "outputs": [
    {
     "data": {
      "text/plain": [
       "array([4.1, 3.9, 4.7, 4.5, 4.3, 4.4, 3.8, 4.2, 4.6, 3.2, 4. , nan, 4.8,\n",
       "       4.9, 3.6, 3.7, 3.3, 3.4, 3.5, 3.1, 5. , 2.6, 3. , 1.9, 2.5, 2.8,\n",
       "       2.7, 1. , 2.9, 2.3, 2.2, 1.7, 2. , 1.8, 2.4, 1.6, 2.1, 1.4, 1.5,\n",
       "       1.2])"
      ]
     },
     "execution_count": 15,
     "metadata": {},
     "output_type": "execute_result"
    }
   ],
   "source": [
    "apps_df['Rating'].unique()"
   ]
  },
  {
   "cell_type": "markdown",
   "id": "564a17da",
   "metadata": {},
   "source": [
    "Rating Column have all the numeric value with object data type. So we need to change its data type to float from object."
   ]
  },
  {
   "cell_type": "code",
   "execution_count": 16,
   "id": "17a8e5b6",
   "metadata": {},
   "outputs": [],
   "source": [
    "apps_df.Reviews = pd.to_numeric(apps_df.Reviews)"
   ]
  },
  {
   "cell_type": "markdown",
   "id": "5997810d",
   "metadata": {},
   "source": [
    "Lets Process the Size and Install column "
   ]
  },
  {
   "cell_type": "code",
   "execution_count": 17,
   "id": "f59f83b0",
   "metadata": {},
   "outputs": [],
   "source": [
    "apps_df.Size = apps_df.Size.apply(lambda x:x.replace('M','e+6'))\n",
    "apps_df.Size = apps_df.Size.apply(lambda X:X.replace('k','e+3'))\n",
    "apps_df.Size = apps_df.Size.replace(\"Varies with device\",np.nan)"
   ]
  },
  {
   "cell_type": "code",
   "execution_count": 18,
   "id": "115df141",
   "metadata": {},
   "outputs": [],
   "source": [
    "apps_df.Size = pd.to_numeric(apps_df.Size)"
   ]
  },
  {
   "cell_type": "code",
   "execution_count": 19,
   "id": "d7aca12c",
   "metadata": {},
   "outputs": [],
   "source": [
    "apps_df.Installs = apps_df.Installs.apply(lambda x:x.replace('+',''))\n",
    "apps_df.Installs = apps_df.Installs.apply(lambda x:x.replace(',',''))"
   ]
  },
  {
   "cell_type": "code",
   "execution_count": 20,
   "id": "0337cd8a",
   "metadata": {},
   "outputs": [],
   "source": [
    "apps_df.Installs = pd.to_numeric(apps_df.Installs)"
   ]
  },
  {
   "cell_type": "code",
   "execution_count": 21,
   "id": "39692fd9",
   "metadata": {},
   "outputs": [
    {
     "data": {
      "text/html": [
       "<div>\n",
       "<style scoped>\n",
       "    .dataframe tbody tr th:only-of-type {\n",
       "        vertical-align: middle;\n",
       "    }\n",
       "\n",
       "    .dataframe tbody tr th {\n",
       "        vertical-align: top;\n",
       "    }\n",
       "\n",
       "    .dataframe thead th {\n",
       "        text-align: right;\n",
       "    }\n",
       "</style>\n",
       "<table border=\"1\" class=\"dataframe\">\n",
       "  <thead>\n",
       "    <tr style=\"text-align: right;\">\n",
       "      <th></th>\n",
       "      <th>App</th>\n",
       "      <th>Category</th>\n",
       "      <th>Rating</th>\n",
       "      <th>Reviews</th>\n",
       "      <th>Size</th>\n",
       "      <th>Installs</th>\n",
       "      <th>Type</th>\n",
       "      <th>Price</th>\n",
       "      <th>Content Rating</th>\n",
       "      <th>Genres</th>\n",
       "      <th>Android Ver</th>\n",
       "    </tr>\n",
       "  </thead>\n",
       "  <tbody>\n",
       "    <tr>\n",
       "      <th>0</th>\n",
       "      <td>Photo Editor &amp; Candy Camera &amp; Grid &amp; ScrapBook</td>\n",
       "      <td>ART_AND_DESIGN</td>\n",
       "      <td>4.1</td>\n",
       "      <td>159</td>\n",
       "      <td>19000000.0</td>\n",
       "      <td>10000</td>\n",
       "      <td>Free</td>\n",
       "      <td>0</td>\n",
       "      <td>Everyone</td>\n",
       "      <td>Art &amp; Design</td>\n",
       "      <td>4.0.3 and up</td>\n",
       "    </tr>\n",
       "    <tr>\n",
       "      <th>1</th>\n",
       "      <td>Coloring book moana</td>\n",
       "      <td>ART_AND_DESIGN</td>\n",
       "      <td>3.9</td>\n",
       "      <td>967</td>\n",
       "      <td>14000000.0</td>\n",
       "      <td>500000</td>\n",
       "      <td>Free</td>\n",
       "      <td>0</td>\n",
       "      <td>Everyone</td>\n",
       "      <td>Art &amp; Design;Pretend Play</td>\n",
       "      <td>4.0.3 and up</td>\n",
       "    </tr>\n",
       "    <tr>\n",
       "      <th>2</th>\n",
       "      <td>U Launcher Lite – FREE Live Cool Themes, Hide ...</td>\n",
       "      <td>ART_AND_DESIGN</td>\n",
       "      <td>4.7</td>\n",
       "      <td>87510</td>\n",
       "      <td>8700000.0</td>\n",
       "      <td>5000000</td>\n",
       "      <td>Free</td>\n",
       "      <td>0</td>\n",
       "      <td>Everyone</td>\n",
       "      <td>Art &amp; Design</td>\n",
       "      <td>4.0.3 and up</td>\n",
       "    </tr>\n",
       "    <tr>\n",
       "      <th>3</th>\n",
       "      <td>Sketch - Draw &amp; Paint</td>\n",
       "      <td>ART_AND_DESIGN</td>\n",
       "      <td>4.5</td>\n",
       "      <td>215644</td>\n",
       "      <td>25000000.0</td>\n",
       "      <td>50000000</td>\n",
       "      <td>Free</td>\n",
       "      <td>0</td>\n",
       "      <td>Teen</td>\n",
       "      <td>Art &amp; Design</td>\n",
       "      <td>4.2 and up</td>\n",
       "    </tr>\n",
       "    <tr>\n",
       "      <th>4</th>\n",
       "      <td>Pixel Draw - Number Art Coloring Book</td>\n",
       "      <td>ART_AND_DESIGN</td>\n",
       "      <td>4.3</td>\n",
       "      <td>967</td>\n",
       "      <td>2800000.0</td>\n",
       "      <td>100000</td>\n",
       "      <td>Free</td>\n",
       "      <td>0</td>\n",
       "      <td>Everyone</td>\n",
       "      <td>Art &amp; Design;Creativity</td>\n",
       "      <td>4.4 and up</td>\n",
       "    </tr>\n",
       "    <tr>\n",
       "      <th>...</th>\n",
       "      <td>...</td>\n",
       "      <td>...</td>\n",
       "      <td>...</td>\n",
       "      <td>...</td>\n",
       "      <td>...</td>\n",
       "      <td>...</td>\n",
       "      <td>...</td>\n",
       "      <td>...</td>\n",
       "      <td>...</td>\n",
       "      <td>...</td>\n",
       "      <td>...</td>\n",
       "    </tr>\n",
       "    <tr>\n",
       "      <th>10836</th>\n",
       "      <td>Sya9a Maroc - FR</td>\n",
       "      <td>FAMILY</td>\n",
       "      <td>4.5</td>\n",
       "      <td>38</td>\n",
       "      <td>53000000.0</td>\n",
       "      <td>5000</td>\n",
       "      <td>Free</td>\n",
       "      <td>0</td>\n",
       "      <td>Everyone</td>\n",
       "      <td>Education</td>\n",
       "      <td>4.1 and up</td>\n",
       "    </tr>\n",
       "    <tr>\n",
       "      <th>10837</th>\n",
       "      <td>Fr. Mike Schmitz Audio Teachings</td>\n",
       "      <td>FAMILY</td>\n",
       "      <td>5.0</td>\n",
       "      <td>4</td>\n",
       "      <td>3600000.0</td>\n",
       "      <td>100</td>\n",
       "      <td>Free</td>\n",
       "      <td>0</td>\n",
       "      <td>Everyone</td>\n",
       "      <td>Education</td>\n",
       "      <td>4.1 and up</td>\n",
       "    </tr>\n",
       "    <tr>\n",
       "      <th>10838</th>\n",
       "      <td>Parkinson Exercices FR</td>\n",
       "      <td>MEDICAL</td>\n",
       "      <td>NaN</td>\n",
       "      <td>3</td>\n",
       "      <td>9500000.0</td>\n",
       "      <td>1000</td>\n",
       "      <td>Free</td>\n",
       "      <td>0</td>\n",
       "      <td>Everyone</td>\n",
       "      <td>Medical</td>\n",
       "      <td>2.2 and up</td>\n",
       "    </tr>\n",
       "    <tr>\n",
       "      <th>10839</th>\n",
       "      <td>The SCP Foundation DB fr nn5n</td>\n",
       "      <td>BOOKS_AND_REFERENCE</td>\n",
       "      <td>4.5</td>\n",
       "      <td>114</td>\n",
       "      <td>NaN</td>\n",
       "      <td>1000</td>\n",
       "      <td>Free</td>\n",
       "      <td>0</td>\n",
       "      <td>Mature 17+</td>\n",
       "      <td>Books &amp; Reference</td>\n",
       "      <td>Varies with device</td>\n",
       "    </tr>\n",
       "    <tr>\n",
       "      <th>10840</th>\n",
       "      <td>iHoroscope - 2018 Daily Horoscope &amp; Astrology</td>\n",
       "      <td>LIFESTYLE</td>\n",
       "      <td>4.5</td>\n",
       "      <td>398307</td>\n",
       "      <td>19000000.0</td>\n",
       "      <td>10000000</td>\n",
       "      <td>Free</td>\n",
       "      <td>0</td>\n",
       "      <td>Everyone</td>\n",
       "      <td>Lifestyle</td>\n",
       "      <td>Varies with device</td>\n",
       "    </tr>\n",
       "  </tbody>\n",
       "</table>\n",
       "<p>10840 rows × 11 columns</p>\n",
       "</div>"
      ],
      "text/plain": [
       "                                                     App             Category  \\\n",
       "0         Photo Editor & Candy Camera & Grid & ScrapBook       ART_AND_DESIGN   \n",
       "1                                    Coloring book moana       ART_AND_DESIGN   \n",
       "2      U Launcher Lite – FREE Live Cool Themes, Hide ...       ART_AND_DESIGN   \n",
       "3                                  Sketch - Draw & Paint       ART_AND_DESIGN   \n",
       "4                  Pixel Draw - Number Art Coloring Book       ART_AND_DESIGN   \n",
       "...                                                  ...                  ...   \n",
       "10836                                   Sya9a Maroc - FR               FAMILY   \n",
       "10837                   Fr. Mike Schmitz Audio Teachings               FAMILY   \n",
       "10838                             Parkinson Exercices FR              MEDICAL   \n",
       "10839                      The SCP Foundation DB fr nn5n  BOOKS_AND_REFERENCE   \n",
       "10840      iHoroscope - 2018 Daily Horoscope & Astrology            LIFESTYLE   \n",
       "\n",
       "       Rating  Reviews        Size  Installs  Type Price Content Rating  \\\n",
       "0         4.1      159  19000000.0     10000  Free     0       Everyone   \n",
       "1         3.9      967  14000000.0    500000  Free     0       Everyone   \n",
       "2         4.7    87510   8700000.0   5000000  Free     0       Everyone   \n",
       "3         4.5   215644  25000000.0  50000000  Free     0           Teen   \n",
       "4         4.3      967   2800000.0    100000  Free     0       Everyone   \n",
       "...       ...      ...         ...       ...   ...   ...            ...   \n",
       "10836     4.5       38  53000000.0      5000  Free     0       Everyone   \n",
       "10837     5.0        4   3600000.0       100  Free     0       Everyone   \n",
       "10838     NaN        3   9500000.0      1000  Free     0       Everyone   \n",
       "10839     4.5      114         NaN      1000  Free     0     Mature 17+   \n",
       "10840     4.5   398307  19000000.0  10000000  Free     0       Everyone   \n",
       "\n",
       "                          Genres         Android Ver  \n",
       "0                   Art & Design        4.0.3 and up  \n",
       "1      Art & Design;Pretend Play        4.0.3 and up  \n",
       "2                   Art & Design        4.0.3 and up  \n",
       "3                   Art & Design          4.2 and up  \n",
       "4        Art & Design;Creativity          4.4 and up  \n",
       "...                          ...                 ...  \n",
       "10836                  Education          4.1 and up  \n",
       "10837                  Education          4.1 and up  \n",
       "10838                    Medical          2.2 and up  \n",
       "10839          Books & Reference  Varies with device  \n",
       "10840                  Lifestyle  Varies with device  \n",
       "\n",
       "[10840 rows x 11 columns]"
      ]
     },
     "execution_count": 21,
     "metadata": {},
     "output_type": "execute_result"
    }
   ],
   "source": [
    "apps_df"
   ]
  },
  {
   "cell_type": "markdown",
   "id": "42dffaca",
   "metadata": {},
   "source": [
    "Now lets Clean Type and Price Column "
   ]
  },
  {
   "cell_type": "code",
   "execution_count": 26,
   "id": "b44b70e2",
   "metadata": {},
   "outputs": [
    {
     "data": {
      "text/plain": [
       "array(['Free', 'Paid'], dtype=object)"
      ]
     },
     "execution_count": 26,
     "metadata": {},
     "output_type": "execute_result"
    }
   ],
   "source": [
    "apps_df['Type'].unique()"
   ]
  },
  {
   "cell_type": "code",
   "execution_count": 25,
   "id": "6e5b6749",
   "metadata": {},
   "outputs": [],
   "source": [
    "apps_df[\"Type\"].fillna(\"Free\", inplace = True)"
   ]
  },
  {
   "cell_type": "code",
   "execution_count": 28,
   "id": "1fbb8bae",
   "metadata": {},
   "outputs": [
    {
     "data": {
      "text/html": [
       "<div>\n",
       "<style scoped>\n",
       "    .dataframe tbody tr th:only-of-type {\n",
       "        vertical-align: middle;\n",
       "    }\n",
       "\n",
       "    .dataframe tbody tr th {\n",
       "        vertical-align: top;\n",
       "    }\n",
       "\n",
       "    .dataframe thead th {\n",
       "        text-align: right;\n",
       "    }\n",
       "</style>\n",
       "<table border=\"1\" class=\"dataframe\">\n",
       "  <thead>\n",
       "    <tr style=\"text-align: right;\">\n",
       "      <th></th>\n",
       "      <th>App</th>\n",
       "      <th>Category</th>\n",
       "      <th>Rating</th>\n",
       "      <th>Reviews</th>\n",
       "      <th>Size</th>\n",
       "      <th>Installs</th>\n",
       "      <th>Type</th>\n",
       "      <th>Price</th>\n",
       "      <th>Content Rating</th>\n",
       "      <th>Genres</th>\n",
       "      <th>Android Ver</th>\n",
       "    </tr>\n",
       "  </thead>\n",
       "  <tbody>\n",
       "    <tr>\n",
       "      <th>0</th>\n",
       "      <td>Photo Editor &amp; Candy Camera &amp; Grid &amp; ScrapBook</td>\n",
       "      <td>ART_AND_DESIGN</td>\n",
       "      <td>4.1</td>\n",
       "      <td>159</td>\n",
       "      <td>19000000.0</td>\n",
       "      <td>10000</td>\n",
       "      <td>Free</td>\n",
       "      <td>0</td>\n",
       "      <td>Everyone</td>\n",
       "      <td>Art &amp; Design</td>\n",
       "      <td>4.0.3 and up</td>\n",
       "    </tr>\n",
       "    <tr>\n",
       "      <th>1</th>\n",
       "      <td>Coloring book moana</td>\n",
       "      <td>ART_AND_DESIGN</td>\n",
       "      <td>3.9</td>\n",
       "      <td>967</td>\n",
       "      <td>14000000.0</td>\n",
       "      <td>500000</td>\n",
       "      <td>Free</td>\n",
       "      <td>0</td>\n",
       "      <td>Everyone</td>\n",
       "      <td>Art &amp; Design;Pretend Play</td>\n",
       "      <td>4.0.3 and up</td>\n",
       "    </tr>\n",
       "    <tr>\n",
       "      <th>2</th>\n",
       "      <td>U Launcher Lite – FREE Live Cool Themes, Hide ...</td>\n",
       "      <td>ART_AND_DESIGN</td>\n",
       "      <td>4.7</td>\n",
       "      <td>87510</td>\n",
       "      <td>8700000.0</td>\n",
       "      <td>5000000</td>\n",
       "      <td>Free</td>\n",
       "      <td>0</td>\n",
       "      <td>Everyone</td>\n",
       "      <td>Art &amp; Design</td>\n",
       "      <td>4.0.3 and up</td>\n",
       "    </tr>\n",
       "    <tr>\n",
       "      <th>3</th>\n",
       "      <td>Sketch - Draw &amp; Paint</td>\n",
       "      <td>ART_AND_DESIGN</td>\n",
       "      <td>4.5</td>\n",
       "      <td>215644</td>\n",
       "      <td>25000000.0</td>\n",
       "      <td>50000000</td>\n",
       "      <td>Free</td>\n",
       "      <td>0</td>\n",
       "      <td>Teen</td>\n",
       "      <td>Art &amp; Design</td>\n",
       "      <td>4.2 and up</td>\n",
       "    </tr>\n",
       "    <tr>\n",
       "      <th>4</th>\n",
       "      <td>Pixel Draw - Number Art Coloring Book</td>\n",
       "      <td>ART_AND_DESIGN</td>\n",
       "      <td>4.3</td>\n",
       "      <td>967</td>\n",
       "      <td>2800000.0</td>\n",
       "      <td>100000</td>\n",
       "      <td>Free</td>\n",
       "      <td>0</td>\n",
       "      <td>Everyone</td>\n",
       "      <td>Art &amp; Design;Creativity</td>\n",
       "      <td>4.4 and up</td>\n",
       "    </tr>\n",
       "    <tr>\n",
       "      <th>...</th>\n",
       "      <td>...</td>\n",
       "      <td>...</td>\n",
       "      <td>...</td>\n",
       "      <td>...</td>\n",
       "      <td>...</td>\n",
       "      <td>...</td>\n",
       "      <td>...</td>\n",
       "      <td>...</td>\n",
       "      <td>...</td>\n",
       "      <td>...</td>\n",
       "      <td>...</td>\n",
       "    </tr>\n",
       "    <tr>\n",
       "      <th>10836</th>\n",
       "      <td>Sya9a Maroc - FR</td>\n",
       "      <td>FAMILY</td>\n",
       "      <td>4.5</td>\n",
       "      <td>38</td>\n",
       "      <td>53000000.0</td>\n",
       "      <td>5000</td>\n",
       "      <td>Free</td>\n",
       "      <td>0</td>\n",
       "      <td>Everyone</td>\n",
       "      <td>Education</td>\n",
       "      <td>4.1 and up</td>\n",
       "    </tr>\n",
       "    <tr>\n",
       "      <th>10837</th>\n",
       "      <td>Fr. Mike Schmitz Audio Teachings</td>\n",
       "      <td>FAMILY</td>\n",
       "      <td>5.0</td>\n",
       "      <td>4</td>\n",
       "      <td>3600000.0</td>\n",
       "      <td>100</td>\n",
       "      <td>Free</td>\n",
       "      <td>0</td>\n",
       "      <td>Everyone</td>\n",
       "      <td>Education</td>\n",
       "      <td>4.1 and up</td>\n",
       "    </tr>\n",
       "    <tr>\n",
       "      <th>10838</th>\n",
       "      <td>Parkinson Exercices FR</td>\n",
       "      <td>MEDICAL</td>\n",
       "      <td>NaN</td>\n",
       "      <td>3</td>\n",
       "      <td>9500000.0</td>\n",
       "      <td>1000</td>\n",
       "      <td>Free</td>\n",
       "      <td>0</td>\n",
       "      <td>Everyone</td>\n",
       "      <td>Medical</td>\n",
       "      <td>2.2 and up</td>\n",
       "    </tr>\n",
       "    <tr>\n",
       "      <th>10839</th>\n",
       "      <td>The SCP Foundation DB fr nn5n</td>\n",
       "      <td>BOOKS_AND_REFERENCE</td>\n",
       "      <td>4.5</td>\n",
       "      <td>114</td>\n",
       "      <td>NaN</td>\n",
       "      <td>1000</td>\n",
       "      <td>Free</td>\n",
       "      <td>0</td>\n",
       "      <td>Mature 17+</td>\n",
       "      <td>Books &amp; Reference</td>\n",
       "      <td>Varies with device</td>\n",
       "    </tr>\n",
       "    <tr>\n",
       "      <th>10840</th>\n",
       "      <td>iHoroscope - 2018 Daily Horoscope &amp; Astrology</td>\n",
       "      <td>LIFESTYLE</td>\n",
       "      <td>4.5</td>\n",
       "      <td>398307</td>\n",
       "      <td>19000000.0</td>\n",
       "      <td>10000000</td>\n",
       "      <td>Free</td>\n",
       "      <td>0</td>\n",
       "      <td>Everyone</td>\n",
       "      <td>Lifestyle</td>\n",
       "      <td>Varies with device</td>\n",
       "    </tr>\n",
       "  </tbody>\n",
       "</table>\n",
       "<p>10840 rows × 11 columns</p>\n",
       "</div>"
      ],
      "text/plain": [
       "                                                     App             Category  \\\n",
       "0         Photo Editor & Candy Camera & Grid & ScrapBook       ART_AND_DESIGN   \n",
       "1                                    Coloring book moana       ART_AND_DESIGN   \n",
       "2      U Launcher Lite – FREE Live Cool Themes, Hide ...       ART_AND_DESIGN   \n",
       "3                                  Sketch - Draw & Paint       ART_AND_DESIGN   \n",
       "4                  Pixel Draw - Number Art Coloring Book       ART_AND_DESIGN   \n",
       "...                                                  ...                  ...   \n",
       "10836                                   Sya9a Maroc - FR               FAMILY   \n",
       "10837                   Fr. Mike Schmitz Audio Teachings               FAMILY   \n",
       "10838                             Parkinson Exercices FR              MEDICAL   \n",
       "10839                      The SCP Foundation DB fr nn5n  BOOKS_AND_REFERENCE   \n",
       "10840      iHoroscope - 2018 Daily Horoscope & Astrology            LIFESTYLE   \n",
       "\n",
       "       Rating  Reviews        Size  Installs  Type Price Content Rating  \\\n",
       "0         4.1      159  19000000.0     10000  Free     0       Everyone   \n",
       "1         3.9      967  14000000.0    500000  Free     0       Everyone   \n",
       "2         4.7    87510   8700000.0   5000000  Free     0       Everyone   \n",
       "3         4.5   215644  25000000.0  50000000  Free     0           Teen   \n",
       "4         4.3      967   2800000.0    100000  Free     0       Everyone   \n",
       "...       ...      ...         ...       ...   ...   ...            ...   \n",
       "10836     4.5       38  53000000.0      5000  Free     0       Everyone   \n",
       "10837     5.0        4   3600000.0       100  Free     0       Everyone   \n",
       "10838     NaN        3   9500000.0      1000  Free     0       Everyone   \n",
       "10839     4.5      114         NaN      1000  Free     0     Mature 17+   \n",
       "10840     4.5   398307  19000000.0  10000000  Free     0       Everyone   \n",
       "\n",
       "                          Genres         Android Ver  \n",
       "0                   Art & Design        4.0.3 and up  \n",
       "1      Art & Design;Pretend Play        4.0.3 and up  \n",
       "2                   Art & Design        4.0.3 and up  \n",
       "3                   Art & Design          4.2 and up  \n",
       "4        Art & Design;Creativity          4.4 and up  \n",
       "...                          ...                 ...  \n",
       "10836                  Education          4.1 and up  \n",
       "10837                  Education          4.1 and up  \n",
       "10838                    Medical          2.2 and up  \n",
       "10839          Books & Reference  Varies with device  \n",
       "10840                  Lifestyle  Varies with device  \n",
       "\n",
       "[10840 rows x 11 columns]"
      ]
     },
     "execution_count": 28,
     "metadata": {},
     "output_type": "execute_result"
    }
   ],
   "source": [
    "apps_df"
   ]
  },
  {
   "cell_type": "code",
   "execution_count": 29,
   "id": "751b6aca",
   "metadata": {},
   "outputs": [],
   "source": [
    "apps_df.Price = apps_df.Price.str.strip('$')"
   ]
  },
  {
   "cell_type": "code",
   "execution_count": 30,
   "id": "194577a5",
   "metadata": {},
   "outputs": [],
   "source": [
    "apps_df.Price = pd.to_numeric(apps_df.Price)"
   ]
  },
  {
   "cell_type": "code",
   "execution_count": 31,
   "id": "44be7a12",
   "metadata": {},
   "outputs": [
    {
     "name": "stdout",
     "output_type": "stream",
     "text": [
      "<class 'pandas.core.frame.DataFrame'>\n",
      "Int64Index: 10840 entries, 0 to 10840\n",
      "Data columns (total 11 columns):\n",
      " #   Column          Non-Null Count  Dtype  \n",
      "---  ------          --------------  -----  \n",
      " 0   App             10840 non-null  object \n",
      " 1   Category        10840 non-null  object \n",
      " 2   Rating          9366 non-null   float64\n",
      " 3   Reviews         10840 non-null  int64  \n",
      " 4   Size            9145 non-null   float64\n",
      " 5   Installs        10840 non-null  int64  \n",
      " 6   Type            10840 non-null  object \n",
      " 7   Price           10840 non-null  float64\n",
      " 8   Content Rating  10840 non-null  object \n",
      " 9   Genres          10840 non-null  object \n",
      " 10  Android Ver     10838 non-null  object \n",
      "dtypes: float64(3), int64(2), object(6)\n",
      "memory usage: 1016.2+ KB\n"
     ]
    }
   ],
   "source": [
    "apps_df.info()"
   ]
  },
  {
   "cell_type": "code",
   "execution_count": 32,
   "id": "39d493c8",
   "metadata": {},
   "outputs": [
    {
     "data": {
      "text/plain": [
       "array(['Everyone', 'Teen', 'Everyone 10+', 'Mature 17+',\n",
       "       'Adults only 18+', 'Unrated'], dtype=object)"
      ]
     },
     "execution_count": 32,
     "metadata": {},
     "output_type": "execute_result"
    }
   ],
   "source": [
    "apps_df['Content Rating'].unique()"
   ]
  },
  {
   "cell_type": "code",
   "execution_count": 33,
   "id": "97550188",
   "metadata": {},
   "outputs": [
    {
     "data": {
      "text/plain": [
       "array(['Art & Design', 'Art & Design;Pretend Play',\n",
       "       'Art & Design;Creativity', 'Art & Design;Action & Adventure',\n",
       "       'Auto & Vehicles', 'Beauty', 'Books & Reference', 'Business',\n",
       "       'Comics', 'Comics;Creativity', 'Communication', 'Dating',\n",
       "       'Education;Education', 'Education', 'Education;Creativity',\n",
       "       'Education;Music & Video', 'Education;Action & Adventure',\n",
       "       'Education;Pretend Play', 'Education;Brain Games', 'Entertainment',\n",
       "       'Entertainment;Music & Video', 'Entertainment;Brain Games',\n",
       "       'Entertainment;Creativity', 'Events', 'Finance', 'Food & Drink',\n",
       "       'Health & Fitness', 'House & Home', 'Libraries & Demo',\n",
       "       'Lifestyle', 'Lifestyle;Pretend Play',\n",
       "       'Adventure;Action & Adventure', 'Arcade', 'Casual', 'Card',\n",
       "       'Casual;Pretend Play', 'Action', 'Strategy', 'Puzzle', 'Sports',\n",
       "       'Music', 'Word', 'Racing', 'Casual;Creativity',\n",
       "       'Casual;Action & Adventure', 'Simulation', 'Adventure', 'Board',\n",
       "       'Trivia', 'Role Playing', 'Simulation;Education',\n",
       "       'Action;Action & Adventure', 'Casual;Brain Games',\n",
       "       'Simulation;Action & Adventure', 'Educational;Creativity',\n",
       "       'Puzzle;Brain Games', 'Educational;Education', 'Card;Brain Games',\n",
       "       'Educational;Brain Games', 'Educational;Pretend Play',\n",
       "       'Entertainment;Education', 'Casual;Education',\n",
       "       'Music;Music & Video', 'Racing;Action & Adventure',\n",
       "       'Arcade;Pretend Play', 'Role Playing;Action & Adventure',\n",
       "       'Simulation;Pretend Play', 'Puzzle;Creativity',\n",
       "       'Sports;Action & Adventure', 'Educational;Action & Adventure',\n",
       "       'Arcade;Action & Adventure', 'Entertainment;Action & Adventure',\n",
       "       'Puzzle;Action & Adventure', 'Strategy;Action & Adventure',\n",
       "       'Music & Audio;Music & Video', 'Health & Fitness;Education',\n",
       "       'Adventure;Education', 'Board;Brain Games',\n",
       "       'Board;Action & Adventure', 'Board;Pretend Play',\n",
       "       'Casual;Music & Video', 'Role Playing;Pretend Play',\n",
       "       'Entertainment;Pretend Play', 'Video Players & Editors;Creativity',\n",
       "       'Card;Action & Adventure', 'Medical', 'Social', 'Shopping',\n",
       "       'Photography', 'Travel & Local',\n",
       "       'Travel & Local;Action & Adventure', 'Tools', 'Tools;Education',\n",
       "       'Personalization', 'Productivity', 'Parenting',\n",
       "       'Parenting;Music & Video', 'Parenting;Education',\n",
       "       'Parenting;Brain Games', 'Weather', 'Video Players & Editors',\n",
       "       'Video Players & Editors;Music & Video', 'News & Magazines',\n",
       "       'Maps & Navigation', 'Health & Fitness;Action & Adventure',\n",
       "       'Educational', 'Casino', 'Adventure;Brain Games',\n",
       "       'Trivia;Education', 'Lifestyle;Education',\n",
       "       'Books & Reference;Creativity', 'Books & Reference;Education',\n",
       "       'Puzzle;Education', 'Role Playing;Education',\n",
       "       'Role Playing;Brain Games', 'Strategy;Education',\n",
       "       'Racing;Pretend Play', 'Communication;Creativity',\n",
       "       'Strategy;Creativity'], dtype=object)"
      ]
     },
     "execution_count": 33,
     "metadata": {},
     "output_type": "execute_result"
    }
   ],
   "source": [
    "apps_df['Genres'].unique()"
   ]
  },
  {
   "cell_type": "markdown",
   "id": "3027b077",
   "metadata": {},
   "source": [
    "Lets Drop unnecessary columns "
   ]
  },
  {
   "cell_type": "code",
   "execution_count": 34,
   "id": "fd1210ca",
   "metadata": {},
   "outputs": [],
   "source": [
    "apps_df.drop(['Android Ver'],axis=1,inplace=True)"
   ]
  },
  {
   "cell_type": "code",
   "execution_count": 35,
   "id": "1f8fe80e",
   "metadata": {},
   "outputs": [
    {
     "name": "stdout",
     "output_type": "stream",
     "text": [
      "<class 'pandas.core.frame.DataFrame'>\n",
      "Int64Index: 10840 entries, 0 to 10840\n",
      "Data columns (total 10 columns):\n",
      " #   Column          Non-Null Count  Dtype  \n",
      "---  ------          --------------  -----  \n",
      " 0   App             10840 non-null  object \n",
      " 1   Category        10840 non-null  object \n",
      " 2   Rating          9366 non-null   float64\n",
      " 3   Reviews         10840 non-null  int64  \n",
      " 4   Size            9145 non-null   float64\n",
      " 5   Installs        10840 non-null  int64  \n",
      " 6   Type            10840 non-null  object \n",
      " 7   Price           10840 non-null  float64\n",
      " 8   Content Rating  10840 non-null  object \n",
      " 9   Genres          10840 non-null  object \n",
      "dtypes: float64(3), int64(2), object(5)\n",
      "memory usage: 931.6+ KB\n"
     ]
    }
   ],
   "source": [
    "apps_df.info()"
   ]
  },
  {
   "cell_type": "markdown",
   "id": "d0b439b6",
   "metadata": {},
   "source": [
    "# Data Visualization \n",
    "    Now Lets get some visuals from our Cleaned Dataset Using Python libraries like Seaborn and Matplotlib"
   ]
  },
  {
   "cell_type": "markdown",
   "id": "e502698d",
   "metadata": {},
   "source": [
    "#### Now lets see the Top 10 categories which has the highest number of Installed Applications "
   ]
  },
  {
   "cell_type": "code",
   "execution_count": 36,
   "id": "3c6632f5",
   "metadata": {},
   "outputs": [],
   "source": [
    "most_instal = apps_df.groupby('Category').sum().sort_values(by = 'Installs',ascending = False).head(10)"
   ]
  },
  {
   "cell_type": "code",
   "execution_count": 37,
   "id": "1f7a7920",
   "metadata": {},
   "outputs": [
    {
     "data": {
      "text/html": [
       "<div>\n",
       "<style scoped>\n",
       "    .dataframe tbody tr th:only-of-type {\n",
       "        vertical-align: middle;\n",
       "    }\n",
       "\n",
       "    .dataframe tbody tr th {\n",
       "        vertical-align: top;\n",
       "    }\n",
       "\n",
       "    .dataframe thead th {\n",
       "        text-align: right;\n",
       "    }\n",
       "</style>\n",
       "<table border=\"1\" class=\"dataframe\">\n",
       "  <thead>\n",
       "    <tr style=\"text-align: right;\">\n",
       "      <th></th>\n",
       "      <th>Rating</th>\n",
       "      <th>Reviews</th>\n",
       "      <th>Size</th>\n",
       "      <th>Installs</th>\n",
       "      <th>Price</th>\n",
       "    </tr>\n",
       "    <tr>\n",
       "      <th>Category</th>\n",
       "      <th></th>\n",
       "      <th></th>\n",
       "      <th></th>\n",
       "      <th></th>\n",
       "      <th></th>\n",
       "    </tr>\n",
       "  </thead>\n",
       "  <tbody>\n",
       "    <tr>\n",
       "      <th>GAME</th>\n",
       "      <td>4702.1</td>\n",
       "      <td>1585422349</td>\n",
       "      <td>4.503565e+10</td>\n",
       "      <td>35086024415</td>\n",
       "      <td>287.30</td>\n",
       "    </tr>\n",
       "    <tr>\n",
       "      <th>COMMUNICATION</th>\n",
       "      <td>1364.0</td>\n",
       "      <td>815462260</td>\n",
       "      <td>3.118177e+09</td>\n",
       "      <td>32647276251</td>\n",
       "      <td>83.14</td>\n",
       "    </tr>\n",
       "    <tr>\n",
       "      <th>PRODUCTIVITY</th>\n",
       "      <td>1478.2</td>\n",
       "      <td>114116975</td>\n",
       "      <td>3.933369e+09</td>\n",
       "      <td>14176091369</td>\n",
       "      <td>250.93</td>\n",
       "    </tr>\n",
       "    <tr>\n",
       "      <th>SOCIAL</th>\n",
       "      <td>1102.2</td>\n",
       "      <td>621241422</td>\n",
       "      <td>3.713193e+09</td>\n",
       "      <td>14069867902</td>\n",
       "      <td>15.97</td>\n",
       "    </tr>\n",
       "    <tr>\n",
       "      <th>TOOLS</th>\n",
       "      <td>2970.8</td>\n",
       "      <td>273185044</td>\n",
       "      <td>6.481954e+09</td>\n",
       "      <td>11452771915</td>\n",
       "      <td>267.25</td>\n",
       "    </tr>\n",
       "    <tr>\n",
       "      <th>FAMILY</th>\n",
       "      <td>7323.9</td>\n",
       "      <td>410226330</td>\n",
       "      <td>5.188087e+10</td>\n",
       "      <td>10258263505</td>\n",
       "      <td>2434.78</td>\n",
       "    </tr>\n",
       "    <tr>\n",
       "      <th>PHOTOGRAPHY</th>\n",
       "      <td>1328.9</td>\n",
       "      <td>213516650</td>\n",
       "      <td>4.411387e+09</td>\n",
       "      <td>10088247655</td>\n",
       "      <td>134.21</td>\n",
       "    </tr>\n",
       "    <tr>\n",
       "      <th>NEWS_AND_MAGAZINES</th>\n",
       "      <td>962.8</td>\n",
       "      <td>54400863</td>\n",
       "      <td>2.813108e+09</td>\n",
       "      <td>7496317760</td>\n",
       "      <td>3.98</td>\n",
       "    </tr>\n",
       "    <tr>\n",
       "      <th>TRAVEL_AND_LOCAL</th>\n",
       "      <td>928.7</td>\n",
       "      <td>62617919</td>\n",
       "      <td>4.733663e+09</td>\n",
       "      <td>6868887146</td>\n",
       "      <td>49.95</td>\n",
       "    </tr>\n",
       "    <tr>\n",
       "      <th>VIDEO_PLAYERS</th>\n",
       "      <td>650.2</td>\n",
       "      <td>110380188</td>\n",
       "      <td>2.107080e+09</td>\n",
       "      <td>6222002720</td>\n",
       "      <td>10.46</td>\n",
       "    </tr>\n",
       "  </tbody>\n",
       "</table>\n",
       "</div>"
      ],
      "text/plain": [
       "                    Rating     Reviews          Size     Installs    Price\n",
       "Category                                                                  \n",
       "GAME                4702.1  1585422349  4.503565e+10  35086024415   287.30\n",
       "COMMUNICATION       1364.0   815462260  3.118177e+09  32647276251    83.14\n",
       "PRODUCTIVITY        1478.2   114116975  3.933369e+09  14176091369   250.93\n",
       "SOCIAL              1102.2   621241422  3.713193e+09  14069867902    15.97\n",
       "TOOLS               2970.8   273185044  6.481954e+09  11452771915   267.25\n",
       "FAMILY              7323.9   410226330  5.188087e+10  10258263505  2434.78\n",
       "PHOTOGRAPHY         1328.9   213516650  4.411387e+09  10088247655   134.21\n",
       "NEWS_AND_MAGAZINES   962.8    54400863  2.813108e+09   7496317760     3.98\n",
       "TRAVEL_AND_LOCAL     928.7    62617919  4.733663e+09   6868887146    49.95\n",
       "VIDEO_PLAYERS        650.2   110380188  2.107080e+09   6222002720    10.46"
      ]
     },
     "execution_count": 37,
     "metadata": {},
     "output_type": "execute_result"
    }
   ],
   "source": [
    "most_instal"
   ]
  },
  {
   "cell_type": "code",
   "execution_count": 38,
   "id": "ab5e0896",
   "metadata": {
    "scrolled": true
   },
   "outputs": [
    {
     "data": {
      "image/png": "[encoded data removed]",
      "text/plain": [
       "<Figure size 1440x576 with 1 Axes>"
      ]
     },
     "metadata": {
      "needs_background": "light"
     },
     "output_type": "display_data"
    }
   ],
   "source": [
    "plt.figure(figsize=(20,8))\n",
    "fig = sns.barplot(x = most_instal.index,y =most_instal.Installs,data = most_instal, palette = 'mako')\n",
    "fig.set_xlabel('Categories',fontsize = 16)\n",
    "fig.set_ylabel('Installs', fontsize = 16)\n",
    "fig.set_xticklabels(fig.get_xticklabels(),rotation = 90,fontsize = 10)\n",
    "fig.set_title('Top 10 Categories on Play Store', fontsize = 30)\n",
    "plt.show()"
   ]
  },
  {
   "cell_type": "markdown",
   "id": "780c71d4",
   "metadata": {},
   "source": [
    "#### Now Lets look the Categories which have highest sold applications "
   ]
  },
  {
   "cell_type": "code",
   "execution_count": 39,
   "id": "51480fb2",
   "metadata": {},
   "outputs": [],
   "source": [
    "most_sold = apps_df.groupby('Category').sum().sort_values(by = 'Price',ascending = False)"
   ]
  },
  {
   "cell_type": "code",
   "execution_count": 40,
   "id": "4ef5890b",
   "metadata": {},
   "outputs": [
    {
     "data": {
      "text/html": [
       "<div>\n",
       "<style scoped>\n",
       "    .dataframe tbody tr th:only-of-type {\n",
       "        vertical-align: middle;\n",
       "    }\n",
       "\n",
       "    .dataframe tbody tr th {\n",
       "        vertical-align: top;\n",
       "    }\n",
       "\n",
       "    .dataframe thead th {\n",
       "        text-align: right;\n",
       "    }\n",
       "</style>\n",
       "<table border=\"1\" class=\"dataframe\">\n",
       "  <thead>\n",
       "    <tr style=\"text-align: right;\">\n",
       "      <th></th>\n",
       "      <th>Rating</th>\n",
       "      <th>Reviews</th>\n",
       "      <th>Size</th>\n",
       "      <th>Installs</th>\n",
       "      <th>Price</th>\n",
       "    </tr>\n",
       "    <tr>\n",
       "      <th>Category</th>\n",
       "      <th></th>\n",
       "      <th></th>\n",
       "      <th></th>\n",
       "      <th></th>\n",
       "      <th></th>\n",
       "    </tr>\n",
       "  </thead>\n",
       "  <tbody>\n",
       "    <tr>\n",
       "      <th>FINANCE</th>\n",
       "      <td>1334.6</td>\n",
       "      <td>17550728</td>\n",
       "      <td>5.504070e+09</td>\n",
       "      <td>876648734</td>\n",
       "      <td>2900.83</td>\n",
       "    </tr>\n",
       "    <tr>\n",
       "      <th>FAMILY</th>\n",
       "      <td>7323.9</td>\n",
       "      <td>410226330</td>\n",
       "      <td>5.188087e+10</td>\n",
       "      <td>10258263505</td>\n",
       "      <td>2434.78</td>\n",
       "    </tr>\n",
       "    <tr>\n",
       "      <th>LIFESTYLE</th>\n",
       "      <td>1285.8</td>\n",
       "      <td>12882784</td>\n",
       "      <td>5.090302e+09</td>\n",
       "      <td>537643539</td>\n",
       "      <td>2360.87</td>\n",
       "    </tr>\n",
       "    <tr>\n",
       "      <th>MEDICAL</th>\n",
       "      <td>1466.2</td>\n",
       "      <td>1585975</td>\n",
       "      <td>8.519003e+09</td>\n",
       "      <td>53257437</td>\n",
       "      <td>1439.96</td>\n",
       "    </tr>\n",
       "    <tr>\n",
       "      <th>GAME</th>\n",
       "      <td>4702.1</td>\n",
       "      <td>1585422349</td>\n",
       "      <td>4.503565e+10</td>\n",
       "      <td>35086024415</td>\n",
       "      <td>287.30</td>\n",
       "    </tr>\n",
       "    <tr>\n",
       "      <th>TOOLS</th>\n",
       "      <td>2970.8</td>\n",
       "      <td>273185044</td>\n",
       "      <td>6.481954e+09</td>\n",
       "      <td>11452771915</td>\n",
       "      <td>267.25</td>\n",
       "    </tr>\n",
       "    <tr>\n",
       "      <th>PRODUCTIVITY</th>\n",
       "      <td>1478.2</td>\n",
       "      <td>114116975</td>\n",
       "      <td>3.933369e+09</td>\n",
       "      <td>14176091369</td>\n",
       "      <td>250.93</td>\n",
       "    </tr>\n",
       "    <tr>\n",
       "      <th>BUSINESS</th>\n",
       "      <td>1248.8</td>\n",
       "      <td>13954552</td>\n",
       "      <td>5.788865e+09</td>\n",
       "      <td>1001914865</td>\n",
       "      <td>185.27</td>\n",
       "    </tr>\n",
       "    <tr>\n",
       "      <th>PERSONALIZATION</th>\n",
       "      <td>1361.5</td>\n",
       "      <td>89346140</td>\n",
       "      <td>4.010843e+09</td>\n",
       "      <td>2325494782</td>\n",
       "      <td>153.96</td>\n",
       "    </tr>\n",
       "    <tr>\n",
       "      <th>PHOTOGRAPHY</th>\n",
       "      <td>1328.9</td>\n",
       "      <td>213516650</td>\n",
       "      <td>4.411387e+09</td>\n",
       "      <td>10088247655</td>\n",
       "      <td>134.21</td>\n",
       "    </tr>\n",
       "    <tr>\n",
       "      <th>BOOKS_AND_REFERENCE</th>\n",
       "      <td>773.6</td>\n",
       "      <td>21959069</td>\n",
       "      <td>2.622232e+09</td>\n",
       "      <td>1921469576</td>\n",
       "      <td>119.77</td>\n",
       "    </tr>\n",
       "    <tr>\n",
       "      <th>EVENTS</th>\n",
       "      <td>199.6</td>\n",
       "      <td>161018</td>\n",
       "      <td>7.959340e+08</td>\n",
       "      <td>15973161</td>\n",
       "      <td>109.99</td>\n",
       "    </tr>\n",
       "    <tr>\n",
       "      <th>SPORTS</th>\n",
       "      <td>1347.3</td>\n",
       "      <td>70830169</td>\n",
       "      <td>7.569433e+09</td>\n",
       "      <td>1751174498</td>\n",
       "      <td>100.00</td>\n",
       "    </tr>\n",
       "    <tr>\n",
       "      <th>COMMUNICATION</th>\n",
       "      <td>1364.0</td>\n",
       "      <td>815462260</td>\n",
       "      <td>3.118177e+09</td>\n",
       "      <td>32647276251</td>\n",
       "      <td>83.14</td>\n",
       "    </tr>\n",
       "    <tr>\n",
       "      <th>HEALTH_AND_FITNESS</th>\n",
       "      <td>1270.3</td>\n",
       "      <td>37893743</td>\n",
       "      <td>6.011072e+09</td>\n",
       "      <td>1583072512</td>\n",
       "      <td>67.34</td>\n",
       "    </tr>\n",
       "    <tr>\n",
       "      <th>TRAVEL_AND_LOCAL</th>\n",
       "      <td>928.7</td>\n",
       "      <td>62617919</td>\n",
       "      <td>4.733663e+09</td>\n",
       "      <td>6868887146</td>\n",
       "      <td>49.95</td>\n",
       "    </tr>\n",
       "    <tr>\n",
       "      <th>WEATHER</th>\n",
       "      <td>318.3</td>\n",
       "      <td>14604735</td>\n",
       "      <td>7.480820e+08</td>\n",
       "      <td>426100520</td>\n",
       "      <td>32.42</td>\n",
       "    </tr>\n",
       "    <tr>\n",
       "      <th>DATING</th>\n",
       "      <td>774.3</td>\n",
       "      <td>7291278</td>\n",
       "      <td>3.524618e+09</td>\n",
       "      <td>264310807</td>\n",
       "      <td>31.43</td>\n",
       "    </tr>\n",
       "    <tr>\n",
       "      <th>MAPS_AND_NAVIGATION</th>\n",
       "      <td>502.4</td>\n",
       "      <td>30659254</td>\n",
       "      <td>1.794389e+09</td>\n",
       "      <td>724281890</td>\n",
       "      <td>26.95</td>\n",
       "    </tr>\n",
       "    <tr>\n",
       "      <th>EDUCATION</th>\n",
       "      <td>680.3</td>\n",
       "      <td>39595786</td>\n",
       "      <td>2.307782e+09</td>\n",
       "      <td>871452000</td>\n",
       "      <td>17.96</td>\n",
       "    </tr>\n",
       "    <tr>\n",
       "      <th>SOCIAL</th>\n",
       "      <td>1102.2</td>\n",
       "      <td>621241422</td>\n",
       "      <td>3.713193e+09</td>\n",
       "      <td>14069867902</td>\n",
       "      <td>15.97</td>\n",
       "    </tr>\n",
       "    <tr>\n",
       "      <th>AUTO_AND_VEHICLES</th>\n",
       "      <td>305.9</td>\n",
       "      <td>1163666</td>\n",
       "      <td>1.502786e+09</td>\n",
       "      <td>53130211</td>\n",
       "      <td>13.47</td>\n",
       "    </tr>\n",
       "    <tr>\n",
       "      <th>VIDEO_PLAYERS</th>\n",
       "      <td>650.2</td>\n",
       "      <td>110380188</td>\n",
       "      <td>2.107080e+09</td>\n",
       "      <td>6222002720</td>\n",
       "      <td>10.46</td>\n",
       "    </tr>\n",
       "    <tr>\n",
       "      <th>PARENTING</th>\n",
       "      <td>215.0</td>\n",
       "      <td>958331</td>\n",
       "      <td>1.215700e+09</td>\n",
       "      <td>31521110</td>\n",
       "      <td>9.58</td>\n",
       "    </tr>\n",
       "    <tr>\n",
       "      <th>FOOD_AND_DRINK</th>\n",
       "      <td>454.2</td>\n",
       "      <td>8883330</td>\n",
       "      <td>2.218500e+09</td>\n",
       "      <td>273898751</td>\n",
       "      <td>8.48</td>\n",
       "    </tr>\n",
       "    <tr>\n",
       "      <th>ENTERTAINMENT</th>\n",
       "      <td>614.8</td>\n",
       "      <td>59178154</td>\n",
       "      <td>1.966800e+09</td>\n",
       "      <td>2869160000</td>\n",
       "      <td>7.98</td>\n",
       "    </tr>\n",
       "    <tr>\n",
       "      <th>ART_AND_DESIGN</th>\n",
       "      <td>270.2</td>\n",
       "      <td>1714440</td>\n",
       "      <td>7.670000e+08</td>\n",
       "      <td>124338100</td>\n",
       "      <td>5.97</td>\n",
       "    </tr>\n",
       "    <tr>\n",
       "      <th>SHOPPING</th>\n",
       "      <td>1013.8</td>\n",
       "      <td>115041222</td>\n",
       "      <td>3.251261e+09</td>\n",
       "      <td>3247848785</td>\n",
       "      <td>5.48</td>\n",
       "    </tr>\n",
       "    <tr>\n",
       "      <th>NEWS_AND_MAGAZINES</th>\n",
       "      <td>962.8</td>\n",
       "      <td>54400863</td>\n",
       "      <td>2.813108e+09</td>\n",
       "      <td>7496317760</td>\n",
       "      <td>3.98</td>\n",
       "    </tr>\n",
       "    <tr>\n",
       "      <th>LIBRARIES_AND_DEMO</th>\n",
       "      <td>271.6</td>\n",
       "      <td>1037118</td>\n",
       "      <td>9.088335e+08</td>\n",
       "      <td>62995910</td>\n",
       "      <td>0.99</td>\n",
       "    </tr>\n",
       "    <tr>\n",
       "      <th>COMICS</th>\n",
       "      <td>241.0</td>\n",
       "      <td>3383276</td>\n",
       "      <td>6.877530e+08</td>\n",
       "      <td>56086150</td>\n",
       "      <td>0.00</td>\n",
       "    </tr>\n",
       "    <tr>\n",
       "      <th>BEAUTY</th>\n",
       "      <td>179.7</td>\n",
       "      <td>396240</td>\n",
       "      <td>6.484000e+08</td>\n",
       "      <td>27197050</td>\n",
       "      <td>0.00</td>\n",
       "    </tr>\n",
       "    <tr>\n",
       "      <th>HOUSE_AND_HOME</th>\n",
       "      <td>319.0</td>\n",
       "      <td>3976385</td>\n",
       "      <td>1.086556e+09</td>\n",
       "      <td>168712461</td>\n",
       "      <td>0.00</td>\n",
       "    </tr>\n",
       "  </tbody>\n",
       "</table>\n",
       "</div>"
      ],
      "text/plain": [
       "                     Rating     Reviews          Size     Installs    Price\n",
       "Category                                                                   \n",
       "FINANCE              1334.6    17550728  5.504070e+09    876648734  2900.83\n",
       "FAMILY               7323.9   410226330  5.188087e+10  10258263505  2434.78\n",
       "LIFESTYLE            1285.8    12882784  5.090302e+09    537643539  2360.87\n",
       "MEDICAL              1466.2     1585975  8.519003e+09     53257437  1439.96\n",
       "GAME                 4702.1  1585422349  4.503565e+10  35086024415   287.30\n",
       "TOOLS                2970.8   273185044  6.481954e+09  11452771915   267.25\n",
       "PRODUCTIVITY         1478.2   114116975  3.933369e+09  14176091369   250.93\n",
       "BUSINESS             1248.8    13954552  5.788865e+09   1001914865   185.27\n",
       "PERSONALIZATION      1361.5    89346140  4.010843e+09   2325494782   153.96\n",
       "PHOTOGRAPHY          1328.9   213516650  4.411387e+09  10088247655   134.21\n",
       "BOOKS_AND_REFERENCE   773.6    21959069  2.622232e+09   1921469576   119.77\n",
       "EVENTS                199.6      161018  7.959340e+08     15973161   109.99\n",
       "SPORTS               1347.3    70830169  7.569433e+09   1751174498   100.00\n",
       "COMMUNICATION        1364.0   815462260  3.118177e+09  32647276251    83.14\n",
       "HEALTH_AND_FITNESS   1270.3    37893743  6.011072e+09   1583072512    67.34\n",
       "TRAVEL_AND_LOCAL      928.7    62617919  4.733663e+09   6868887146    49.95\n",
       "WEATHER               318.3    14604735  7.480820e+08    426100520    32.42\n",
       "DATING                774.3     7291278  3.524618e+09    264310807    31.43\n",
       "MAPS_AND_NAVIGATION   502.4    30659254  1.794389e+09    724281890    26.95\n",
       "EDUCATION             680.3    39595786  2.307782e+09    871452000    17.96\n",
       "SOCIAL               1102.2   621241422  3.713193e+09  14069867902    15.97\n",
       "AUTO_AND_VEHICLES     305.9     1163666  1.502786e+09     53130211    13.47\n",
       "VIDEO_PLAYERS         650.2   110380188  2.107080e+09   6222002720    10.46\n",
       "PARENTING             215.0      958331  1.215700e+09     31521110     9.58\n",
       "FOOD_AND_DRINK        454.2     8883330  2.218500e+09    273898751     8.48\n",
       "ENTERTAINMENT         614.8    59178154  1.966800e+09   2869160000     7.98\n",
       "ART_AND_DESIGN        270.2     1714440  7.670000e+08    124338100     5.97\n",
       "SHOPPING             1013.8   115041222  3.251261e+09   3247848785     5.48\n",
       "NEWS_AND_MAGAZINES    962.8    54400863  2.813108e+09   7496317760     3.98\n",
       "LIBRARIES_AND_DEMO    271.6     1037118  9.088335e+08     62995910     0.99\n",
       "COMICS                241.0     3383276  6.877530e+08     56086150     0.00\n",
       "BEAUTY                179.7      396240  6.484000e+08     27197050     0.00\n",
       "HOUSE_AND_HOME        319.0     3976385  1.086556e+09    168712461     0.00"
      ]
     },
     "execution_count": 40,
     "metadata": {},
     "output_type": "execute_result"
    }
   ],
   "source": [
    "most_sold"
   ]
  },
  {
   "cell_type": "code",
   "execution_count": 41,
   "id": "35cd28b0",
   "metadata": {},
   "outputs": [
    {
     "data": {
      "image/png": "[encoded data removed]",
      "text/plain": [
       "<Figure size 1440x576 with 1 Axes>"
      ]
     },
     "metadata": {
      "needs_background": "light"
     },
     "output_type": "display_data"
    }
   ],
   "source": [
    "plt.figure(figsize=(20,8))\n",
    "fig1 = sns.barplot(x = most_sold.index,y =most_sold.Price,data = most_sold, palette = 'Paired')\n",
    "fig1.set_xlabel('Category',fontsize = 16)\n",
    "fig1.set_ylabel('Total Price', fontsize = 16)\n",
    "fig1.set_xticklabels(fig1.get_xticklabels(),rotation = 90,fontsize = 10)\n",
    "fig1.set_title('Revenue generated By Each Category', fontsize = 36)\n",
    "fig1.bar_label(fig1.containers[0])\n",
    "plt.show()"
   ]
  },
  {
   "cell_type": "markdown",
   "id": "be7ce80e",
   "metadata": {},
   "source": [
    "#### Lets go through the highest Rated Categories "
   ]
  },
  {
   "cell_type": "code",
   "execution_count": 42,
   "id": "16e4784e",
   "metadata": {},
   "outputs": [],
   "source": [
    "top_rated = apps_df.groupby('Category').sum().sort_values(by = 'Rating',ascending = False).head(5)"
   ]
  },
  {
   "cell_type": "code",
   "execution_count": 43,
   "id": "391baf94",
   "metadata": {},
   "outputs": [
    {
     "data": {
      "text/html": [
       "<div>\n",
       "<style scoped>\n",
       "    .dataframe tbody tr th:only-of-type {\n",
       "        vertical-align: middle;\n",
       "    }\n",
       "\n",
       "    .dataframe tbody tr th {\n",
       "        vertical-align: top;\n",
       "    }\n",
       "\n",
       "    .dataframe thead th {\n",
       "        text-align: right;\n",
       "    }\n",
       "</style>\n",
       "<table border=\"1\" class=\"dataframe\">\n",
       "  <thead>\n",
       "    <tr style=\"text-align: right;\">\n",
       "      <th></th>\n",
       "      <th>Rating</th>\n",
       "      <th>Reviews</th>\n",
       "      <th>Size</th>\n",
       "      <th>Installs</th>\n",
       "      <th>Price</th>\n",
       "    </tr>\n",
       "    <tr>\n",
       "      <th>Category</th>\n",
       "      <th></th>\n",
       "      <th></th>\n",
       "      <th></th>\n",
       "      <th></th>\n",
       "      <th></th>\n",
       "    </tr>\n",
       "  </thead>\n",
       "  <tbody>\n",
       "    <tr>\n",
       "      <th>FAMILY</th>\n",
       "      <td>7323.9</td>\n",
       "      <td>410226330</td>\n",
       "      <td>5.188087e+10</td>\n",
       "      <td>10258263505</td>\n",
       "      <td>2434.78</td>\n",
       "    </tr>\n",
       "    <tr>\n",
       "      <th>GAME</th>\n",
       "      <td>4702.1</td>\n",
       "      <td>1585422349</td>\n",
       "      <td>4.503565e+10</td>\n",
       "      <td>35086024415</td>\n",
       "      <td>287.30</td>\n",
       "    </tr>\n",
       "    <tr>\n",
       "      <th>TOOLS</th>\n",
       "      <td>2970.8</td>\n",
       "      <td>273185044</td>\n",
       "      <td>6.481954e+09</td>\n",
       "      <td>11452771915</td>\n",
       "      <td>267.25</td>\n",
       "    </tr>\n",
       "    <tr>\n",
       "      <th>PRODUCTIVITY</th>\n",
       "      <td>1478.2</td>\n",
       "      <td>114116975</td>\n",
       "      <td>3.933369e+09</td>\n",
       "      <td>14176091369</td>\n",
       "      <td>250.93</td>\n",
       "    </tr>\n",
       "    <tr>\n",
       "      <th>MEDICAL</th>\n",
       "      <td>1466.2</td>\n",
       "      <td>1585975</td>\n",
       "      <td>8.519003e+09</td>\n",
       "      <td>53257437</td>\n",
       "      <td>1439.96</td>\n",
       "    </tr>\n",
       "  </tbody>\n",
       "</table>\n",
       "</div>"
      ],
      "text/plain": [
       "              Rating     Reviews          Size     Installs    Price\n",
       "Category                                                            \n",
       "FAMILY        7323.9   410226330  5.188087e+10  10258263505  2434.78\n",
       "GAME          4702.1  1585422349  4.503565e+10  35086024415   287.30\n",
       "TOOLS         2970.8   273185044  6.481954e+09  11452771915   267.25\n",
       "PRODUCTIVITY  1478.2   114116975  3.933369e+09  14176091369   250.93\n",
       "MEDICAL       1466.2     1585975  8.519003e+09     53257437  1439.96"
      ]
     },
     "execution_count": 43,
     "metadata": {},
     "output_type": "execute_result"
    }
   ],
   "source": [
    "top_rated"
   ]
  },
  {
   "cell_type": "code",
   "execution_count": 44,
   "id": "9cbeea8c",
   "metadata": {},
   "outputs": [
    {
     "data": {
      "image/png": "[encoded data removed]",
      "text/plain": [
       "<Figure size 1080x360 with 1 Axes>"
      ]
     },
     "metadata": {
      "needs_background": "light"
     },
     "output_type": "display_data"
    }
   ],
   "source": [
    "plt.figure(figsize=(15,5))\n",
    "fig2 = sns.barplot(x = top_rated.index,y =top_rated.Rating,data = top_rated, palette = 'coolwarm')\n",
    "fig2.set_xlabel('Category',fontsize = 16)\n",
    "fig2.set_ylabel('Ratings', fontsize = 16)\n",
    "fig2.set_xticklabels(fig2.get_xticklabels(),rotation = 60,fontsize = 8)\n",
    "fig2.set_title('Most Rated Category on Play Store', fontsize = 25)\n",
    "plt.show()"
   ]
  },
  {
   "cell_type": "markdown",
   "id": "3306a7f6",
   "metadata": {},
   "source": [
    "#### Lets look total number of Application under all the ratings "
   ]
  },
  {
   "cell_type": "code",
   "execution_count": 45,
   "id": "541eff67",
   "metadata": {},
   "outputs": [],
   "source": [
    "total_rating = apps_df['Rating'].value_counts().head(15)"
   ]
  },
  {
   "cell_type": "code",
   "execution_count": 46,
   "id": "30e65d3b",
   "metadata": {},
   "outputs": [
    {
     "data": {
      "text/plain": [
       "4.4    1109\n",
       "4.3    1076\n",
       "4.5    1038\n",
       "4.2     952\n",
       "4.6     823\n",
       "4.1     708\n",
       "4.0     568\n",
       "4.7     499\n",
       "3.9     386\n",
       "3.8     303\n",
       "5.0     274\n",
       "3.7     239\n",
       "4.8     234\n",
       "3.6     174\n",
       "3.5     163\n",
       "Name: Rating, dtype: int64"
      ]
     },
     "execution_count": 46,
     "metadata": {},
     "output_type": "execute_result"
    }
   ],
   "source": [
    "total_rating"
   ]
  },
  {
   "cell_type": "code",
   "execution_count": 47,
   "id": "847b9de2",
   "metadata": {},
   "outputs": [
    {
     "data": {
      "image/png": "[encoded data removed]",
      "text/plain": [
       "<Figure size 1080x360 with 1 Axes>"
      ]
     },
     "metadata": {
      "needs_background": "light"
     },
     "output_type": "display_data"
    }
   ],
   "source": [
    "plt.figure(figsize=(15,5))\n",
    "fig3 = sns.barplot(total_rating.index,total_rating)\n",
    "fig3.set_xlabel('Ratings',fontsize = 10)\n",
    "fig3.set_ylabel('Total Apps', fontsize = 10)\n",
    "fig3.set_title('Total Number of Apps Vs Ratings', fontsize = 20)\n",
    "plt.show()"
   ]
  },
  {
   "cell_type": "markdown",
   "id": "cd5bd81b",
   "metadata": {},
   "source": [
    "#### Letss look what percentage of application are free and paid."
   ]
  },
  {
   "cell_type": "code",
   "execution_count": 49,
   "id": "e082f93f",
   "metadata": {},
   "outputs": [],
   "source": [
    "typo = apps_df['Type'].value_counts()"
   ]
  },
  {
   "cell_type": "code",
   "execution_count": 50,
   "id": "342c4de6",
   "metadata": {},
   "outputs": [
    {
     "data": {
      "text/plain": [
       "Free    10040\n",
       "Paid      800\n",
       "Name: Type, dtype: int64"
      ]
     },
     "execution_count": 50,
     "metadata": {},
     "output_type": "execute_result"
    }
   ],
   "source": [
    "typo"
   ]
  },
  {
   "cell_type": "code",
   "execution_count": 85,
   "id": "c2b6f7b4",
   "metadata": {},
   "outputs": [
    {
     "data": {
      "image/png": "[encoded data removed]",
      "text/plain": [
       "<Figure size 1080x360 with 1 Axes>"
      ]
     },
     "metadata": {},
     "output_type": "display_data"
    }
   ],
   "source": [
    "plt.figure(figsize=(15,5))\n",
    "plt.pie(typo,labels=typo.index,autopct='%1.1f%%',textprops={'fontsize': 12})\n",
    "fig4=plt.Circle( (0,0), 0.6, color='white')\n",
    "p=plt.gcf()\n",
    "p.gca().add_artist(fig4)\n",
    "\n",
    "plt.show()"
   ]
  },
  {
   "cell_type": "markdown",
   "id": "0649379a",
   "metadata": {},
   "source": [
    "#### Lets look How many total application lies under each age restriction protocols on Play Store "
   ]
  },
  {
   "cell_type": "code",
   "execution_count": 81,
   "id": "b3f14584",
   "metadata": {},
   "outputs": [],
   "source": [
    "age_grp = apps_df['Content Rating'].value_counts()"
   ]
  },
  {
   "cell_type": "code",
   "execution_count": 82,
   "id": "3fd47150",
   "metadata": {},
   "outputs": [
    {
     "data": {
      "text/plain": [
       "Everyone           8714\n",
       "Teen               1208\n",
       "Mature 17+          499\n",
       "Everyone 10+        414\n",
       "Adults only 18+       3\n",
       "Unrated               2\n",
       "Name: Content Rating, dtype: int64"
      ]
     },
     "execution_count": 82,
     "metadata": {},
     "output_type": "execute_result"
    }
   ],
   "source": [
    "age_grp"
   ]
  },
  {
   "cell_type": "code",
   "execution_count": 93,
   "id": "b62cefbc",
   "metadata": {},
   "outputs": [
    {
     "data": {
      "image/png": "[encoded data removed]",
      "text/plain": [
       "<Figure size 1080x360 with 1 Axes>"
      ]
     },
     "metadata": {
      "needs_background": "light"
     },
     "output_type": "display_data"
    }
   ],
   "source": [
    "plt.figure(figsize=(15,5))\n",
    "fig5 = sns.barplot(age_grp.index,age_grp)\n",
    "fig5.set_xlabel('Allowed Age',fontsize = 10)\n",
    "fig5.set_ylabel('Total Apps', fontsize = 10)\n",
    "fig5.set_title('Age Restrictions Vs Total Apps', fontsize = 20)\n",
    "fig5.bar_label(fig5.containers[0])\n",
    "\n",
    "plt.show()"
   ]
  },
  {
   "cell_type": "markdown",
   "id": "ab84e673",
   "metadata": {},
   "source": [
    "# Question and Answers "
   ]
  },
  {
   "cell_type": "markdown",
   "id": "d777eddc",
   "metadata": {},
   "source": [
    "First Lets Create a Copy of our Dataset in order to perform operations to answer below mentioned questions. Doing this will not harm our actual dataset."
   ]
  },
  {
   "cell_type": "code",
   "execution_count": 120,
   "id": "9b20269b",
   "metadata": {},
   "outputs": [],
   "source": [
    "apps_df_copy = apps_df.copy()"
   ]
  },
  {
   "cell_type": "code",
   "execution_count": 122,
   "id": "fa972339",
   "metadata": {},
   "outputs": [],
   "source": [
    "apps_df_copy.set_index('App', inplace=True)"
   ]
  },
  {
   "cell_type": "code",
   "execution_count": 123,
   "id": "015f71f4",
   "metadata": {},
   "outputs": [
    {
     "data": {
      "text/html": [
       "<div>\n",
       "<style scoped>\n",
       "    .dataframe tbody tr th:only-of-type {\n",
       "        vertical-align: middle;\n",
       "    }\n",
       "\n",
       "    .dataframe tbody tr th {\n",
       "        vertical-align: top;\n",
       "    }\n",
       "\n",
       "    .dataframe thead th {\n",
       "        text-align: right;\n",
       "    }\n",
       "</style>\n",
       "<table border=\"1\" class=\"dataframe\">\n",
       "  <thead>\n",
       "    <tr style=\"text-align: right;\">\n",
       "      <th></th>\n",
       "      <th>Category</th>\n",
       "      <th>Rating</th>\n",
       "      <th>Reviews</th>\n",
       "      <th>Size</th>\n",
       "      <th>Installs</th>\n",
       "      <th>Type</th>\n",
       "      <th>Price</th>\n",
       "      <th>Content Rating</th>\n",
       "      <th>Genres</th>\n",
       "    </tr>\n",
       "    <tr>\n",
       "      <th>App</th>\n",
       "      <th></th>\n",
       "      <th></th>\n",
       "      <th></th>\n",
       "      <th></th>\n",
       "      <th></th>\n",
       "      <th></th>\n",
       "      <th></th>\n",
       "      <th></th>\n",
       "      <th></th>\n",
       "    </tr>\n",
       "  </thead>\n",
       "  <tbody>\n",
       "    <tr>\n",
       "      <th>Photo Editor &amp; Candy Camera &amp; Grid &amp; ScrapBook</th>\n",
       "      <td>ART_AND_DESIGN</td>\n",
       "      <td>4.1</td>\n",
       "      <td>159</td>\n",
       "      <td>19000000.0</td>\n",
       "      <td>10000</td>\n",
       "      <td>Free</td>\n",
       "      <td>0.0</td>\n",
       "      <td>Everyone</td>\n",
       "      <td>Art &amp; Design</td>\n",
       "    </tr>\n",
       "    <tr>\n",
       "      <th>Coloring book moana</th>\n",
       "      <td>ART_AND_DESIGN</td>\n",
       "      <td>3.9</td>\n",
       "      <td>967</td>\n",
       "      <td>14000000.0</td>\n",
       "      <td>500000</td>\n",
       "      <td>Free</td>\n",
       "      <td>0.0</td>\n",
       "      <td>Everyone</td>\n",
       "      <td>Art &amp; Design;Pretend Play</td>\n",
       "    </tr>\n",
       "    <tr>\n",
       "      <th>U Launcher Lite – FREE Live Cool Themes, Hide Apps</th>\n",
       "      <td>ART_AND_DESIGN</td>\n",
       "      <td>4.7</td>\n",
       "      <td>87510</td>\n",
       "      <td>8700000.0</td>\n",
       "      <td>5000000</td>\n",
       "      <td>Free</td>\n",
       "      <td>0.0</td>\n",
       "      <td>Everyone</td>\n",
       "      <td>Art &amp; Design</td>\n",
       "    </tr>\n",
       "    <tr>\n",
       "      <th>Sketch - Draw &amp; Paint</th>\n",
       "      <td>ART_AND_DESIGN</td>\n",
       "      <td>4.5</td>\n",
       "      <td>215644</td>\n",
       "      <td>25000000.0</td>\n",
       "      <td>50000000</td>\n",
       "      <td>Free</td>\n",
       "      <td>0.0</td>\n",
       "      <td>Teen</td>\n",
       "      <td>Art &amp; Design</td>\n",
       "    </tr>\n",
       "    <tr>\n",
       "      <th>Pixel Draw - Number Art Coloring Book</th>\n",
       "      <td>ART_AND_DESIGN</td>\n",
       "      <td>4.3</td>\n",
       "      <td>967</td>\n",
       "      <td>2800000.0</td>\n",
       "      <td>100000</td>\n",
       "      <td>Free</td>\n",
       "      <td>0.0</td>\n",
       "      <td>Everyone</td>\n",
       "      <td>Art &amp; Design;Creativity</td>\n",
       "    </tr>\n",
       "    <tr>\n",
       "      <th>...</th>\n",
       "      <td>...</td>\n",
       "      <td>...</td>\n",
       "      <td>...</td>\n",
       "      <td>...</td>\n",
       "      <td>...</td>\n",
       "      <td>...</td>\n",
       "      <td>...</td>\n",
       "      <td>...</td>\n",
       "      <td>...</td>\n",
       "    </tr>\n",
       "    <tr>\n",
       "      <th>Sya9a Maroc - FR</th>\n",
       "      <td>FAMILY</td>\n",
       "      <td>4.5</td>\n",
       "      <td>38</td>\n",
       "      <td>53000000.0</td>\n",
       "      <td>5000</td>\n",
       "      <td>Free</td>\n",
       "      <td>0.0</td>\n",
       "      <td>Everyone</td>\n",
       "      <td>Education</td>\n",
       "    </tr>\n",
       "    <tr>\n",
       "      <th>Fr. Mike Schmitz Audio Teachings</th>\n",
       "      <td>FAMILY</td>\n",
       "      <td>5.0</td>\n",
       "      <td>4</td>\n",
       "      <td>3600000.0</td>\n",
       "      <td>100</td>\n",
       "      <td>Free</td>\n",
       "      <td>0.0</td>\n",
       "      <td>Everyone</td>\n",
       "      <td>Education</td>\n",
       "    </tr>\n",
       "    <tr>\n",
       "      <th>Parkinson Exercices FR</th>\n",
       "      <td>MEDICAL</td>\n",
       "      <td>NaN</td>\n",
       "      <td>3</td>\n",
       "      <td>9500000.0</td>\n",
       "      <td>1000</td>\n",
       "      <td>Free</td>\n",
       "      <td>0.0</td>\n",
       "      <td>Everyone</td>\n",
       "      <td>Medical</td>\n",
       "    </tr>\n",
       "    <tr>\n",
       "      <th>The SCP Foundation DB fr nn5n</th>\n",
       "      <td>BOOKS_AND_REFERENCE</td>\n",
       "      <td>4.5</td>\n",
       "      <td>114</td>\n",
       "      <td>NaN</td>\n",
       "      <td>1000</td>\n",
       "      <td>Free</td>\n",
       "      <td>0.0</td>\n",
       "      <td>Mature 17+</td>\n",
       "      <td>Books &amp; Reference</td>\n",
       "    </tr>\n",
       "    <tr>\n",
       "      <th>iHoroscope - 2018 Daily Horoscope &amp; Astrology</th>\n",
       "      <td>LIFESTYLE</td>\n",
       "      <td>4.5</td>\n",
       "      <td>398307</td>\n",
       "      <td>19000000.0</td>\n",
       "      <td>10000000</td>\n",
       "      <td>Free</td>\n",
       "      <td>0.0</td>\n",
       "      <td>Everyone</td>\n",
       "      <td>Lifestyle</td>\n",
       "    </tr>\n",
       "  </tbody>\n",
       "</table>\n",
       "<p>10840 rows × 9 columns</p>\n",
       "</div>"
      ],
      "text/plain": [
       "                                                               Category  \\\n",
       "App                                                                       \n",
       "Photo Editor & Candy Camera & Grid & ScrapBook           ART_AND_DESIGN   \n",
       "Coloring book moana                                      ART_AND_DESIGN   \n",
       "U Launcher Lite – FREE Live Cool Themes, Hide Apps       ART_AND_DESIGN   \n",
       "Sketch - Draw & Paint                                    ART_AND_DESIGN   \n",
       "Pixel Draw - Number Art Coloring Book                    ART_AND_DESIGN   \n",
       "...                                                                 ...   \n",
       "Sya9a Maroc - FR                                                 FAMILY   \n",
       "Fr. Mike Schmitz Audio Teachings                                 FAMILY   \n",
       "Parkinson Exercices FR                                          MEDICAL   \n",
       "The SCP Foundation DB fr nn5n                       BOOKS_AND_REFERENCE   \n",
       "iHoroscope - 2018 Daily Horoscope & Astrology                 LIFESTYLE   \n",
       "\n",
       "                                                    Rating  Reviews  \\\n",
       "App                                                                   \n",
       "Photo Editor & Candy Camera & Grid & ScrapBook         4.1      159   \n",
       "Coloring book moana                                    3.9      967   \n",
       "U Launcher Lite – FREE Live Cool Themes, Hide Apps     4.7    87510   \n",
       "Sketch - Draw & Paint                                  4.5   215644   \n",
       "Pixel Draw - Number Art Coloring Book                  4.3      967   \n",
       "...                                                    ...      ...   \n",
       "Sya9a Maroc - FR                                       4.5       38   \n",
       "Fr. Mike Schmitz Audio Teachings                       5.0        4   \n",
       "Parkinson Exercices FR                                 NaN        3   \n",
       "The SCP Foundation DB fr nn5n                          4.5      114   \n",
       "iHoroscope - 2018 Daily Horoscope & Astrology          4.5   398307   \n",
       "\n",
       "                                                          Size  Installs  \\\n",
       "App                                                                        \n",
       "Photo Editor & Candy Camera & Grid & ScrapBook      19000000.0     10000   \n",
       "Coloring book moana                                 14000000.0    500000   \n",
       "U Launcher Lite – FREE Live Cool Themes, Hide Apps   8700000.0   5000000   \n",
       "Sketch - Draw & Paint                               25000000.0  50000000   \n",
       "Pixel Draw - Number Art Coloring Book                2800000.0    100000   \n",
       "...                                                        ...       ...   \n",
       "Sya9a Maroc - FR                                    53000000.0      5000   \n",
       "Fr. Mike Schmitz Audio Teachings                     3600000.0       100   \n",
       "Parkinson Exercices FR                               9500000.0      1000   \n",
       "The SCP Foundation DB fr nn5n                              NaN      1000   \n",
       "iHoroscope - 2018 Daily Horoscope & Astrology       19000000.0  10000000   \n",
       "\n",
       "                                                    Type  Price  \\\n",
       "App                                                               \n",
       "Photo Editor & Candy Camera & Grid & ScrapBook      Free    0.0   \n",
       "Coloring book moana                                 Free    0.0   \n",
       "U Launcher Lite – FREE Live Cool Themes, Hide Apps  Free    0.0   \n",
       "Sketch - Draw & Paint                               Free    0.0   \n",
       "Pixel Draw - Number Art Coloring Book               Free    0.0   \n",
       "...                                                  ...    ...   \n",
       "Sya9a Maroc - FR                                    Free    0.0   \n",
       "Fr. Mike Schmitz Audio Teachings                    Free    0.0   \n",
       "Parkinson Exercices FR                              Free    0.0   \n",
       "The SCP Foundation DB fr nn5n                       Free    0.0   \n",
       "iHoroscope - 2018 Daily Horoscope & Astrology       Free    0.0   \n",
       "\n",
       "                                                   Content Rating  \\\n",
       "App                                                                 \n",
       "Photo Editor & Candy Camera & Grid & ScrapBook           Everyone   \n",
       "Coloring book moana                                      Everyone   \n",
       "U Launcher Lite – FREE Live Cool Themes, Hide Apps       Everyone   \n",
       "Sketch - Draw & Paint                                        Teen   \n",
       "Pixel Draw - Number Art Coloring Book                    Everyone   \n",
       "...                                                           ...   \n",
       "Sya9a Maroc - FR                                         Everyone   \n",
       "Fr. Mike Schmitz Audio Teachings                         Everyone   \n",
       "Parkinson Exercices FR                                   Everyone   \n",
       "The SCP Foundation DB fr nn5n                          Mature 17+   \n",
       "iHoroscope - 2018 Daily Horoscope & Astrology            Everyone   \n",
       "\n",
       "                                                                       Genres  \n",
       "App                                                                            \n",
       "Photo Editor & Candy Camera & Grid & ScrapBook                   Art & Design  \n",
       "Coloring book moana                                 Art & Design;Pretend Play  \n",
       "U Launcher Lite – FREE Live Cool Themes, Hide Apps               Art & Design  \n",
       "Sketch - Draw & Paint                                            Art & Design  \n",
       "Pixel Draw - Number Art Coloring Book                 Art & Design;Creativity  \n",
       "...                                                                       ...  \n",
       "Sya9a Maroc - FR                                                    Education  \n",
       "Fr. Mike Schmitz Audio Teachings                                    Education  \n",
       "Parkinson Exercices FR                                                Medical  \n",
       "The SCP Foundation DB fr nn5n                               Books & Reference  \n",
       "iHoroscope - 2018 Daily Horoscope & Astrology                       Lifestyle  \n",
       "\n",
       "[10840 rows x 9 columns]"
      ]
     },
     "execution_count": 123,
     "metadata": {},
     "output_type": "execute_result"
    }
   ],
   "source": [
    "apps_df_copy"
   ]
  },
  {
   "cell_type": "markdown",
   "id": "8cb542bf",
   "metadata": {},
   "source": [
    "### Question 1] Which Application has the highest and the lowest Ratings?"
   ]
  },
  {
   "cell_type": "markdown",
   "id": "8adf8869",
   "metadata": {},
   "source": [
    "Top 10 Highest Rated Apps"
   ]
  },
  {
   "cell_type": "code",
   "execution_count": 130,
   "id": "84affee0",
   "metadata": {},
   "outputs": [],
   "source": [
    "most_rated_apps = apps_df_copy['Rating'] == 5.0"
   ]
  },
  {
   "cell_type": "code",
   "execution_count": 131,
   "id": "06fcc31c",
   "metadata": {},
   "outputs": [
    {
     "data": {
      "text/html": [
       "<div>\n",
       "<style scoped>\n",
       "    .dataframe tbody tr th:only-of-type {\n",
       "        vertical-align: middle;\n",
       "    }\n",
       "\n",
       "    .dataframe tbody tr th {\n",
       "        vertical-align: top;\n",
       "    }\n",
       "\n",
       "    .dataframe thead th {\n",
       "        text-align: right;\n",
       "    }\n",
       "</style>\n",
       "<table border=\"1\" class=\"dataframe\">\n",
       "  <thead>\n",
       "    <tr style=\"text-align: right;\">\n",
       "      <th></th>\n",
       "      <th>Category</th>\n",
       "      <th>Rating</th>\n",
       "      <th>Reviews</th>\n",
       "      <th>Size</th>\n",
       "      <th>Installs</th>\n",
       "      <th>Type</th>\n",
       "      <th>Price</th>\n",
       "      <th>Content Rating</th>\n",
       "      <th>Genres</th>\n",
       "    </tr>\n",
       "    <tr>\n",
       "      <th>App</th>\n",
       "      <th></th>\n",
       "      <th></th>\n",
       "      <th></th>\n",
       "      <th></th>\n",
       "      <th></th>\n",
       "      <th></th>\n",
       "      <th></th>\n",
       "      <th></th>\n",
       "      <th></th>\n",
       "    </tr>\n",
       "  </thead>\n",
       "  <tbody>\n",
       "    <tr>\n",
       "      <th>Hojiboy Tojiboyev Life Hacks</th>\n",
       "      <td>COMICS</td>\n",
       "      <td>5.0</td>\n",
       "      <td>15</td>\n",
       "      <td>37000000.0</td>\n",
       "      <td>1000</td>\n",
       "      <td>Free</td>\n",
       "      <td>0.0</td>\n",
       "      <td>Everyone</td>\n",
       "      <td>Comics</td>\n",
       "    </tr>\n",
       "    <tr>\n",
       "      <th>American Girls Mobile Numbers</th>\n",
       "      <td>DATING</td>\n",
       "      <td>5.0</td>\n",
       "      <td>5</td>\n",
       "      <td>4400000.0</td>\n",
       "      <td>1000</td>\n",
       "      <td>Free</td>\n",
       "      <td>0.0</td>\n",
       "      <td>Mature 17+</td>\n",
       "      <td>Dating</td>\n",
       "    </tr>\n",
       "    <tr>\n",
       "      <th>Awake Dating</th>\n",
       "      <td>DATING</td>\n",
       "      <td>5.0</td>\n",
       "      <td>2</td>\n",
       "      <td>70000000.0</td>\n",
       "      <td>100</td>\n",
       "      <td>Free</td>\n",
       "      <td>0.0</td>\n",
       "      <td>Mature 17+</td>\n",
       "      <td>Dating</td>\n",
       "    </tr>\n",
       "    <tr>\n",
       "      <th>Spine- The dating app</th>\n",
       "      <td>DATING</td>\n",
       "      <td>5.0</td>\n",
       "      <td>5</td>\n",
       "      <td>9300000.0</td>\n",
       "      <td>500</td>\n",
       "      <td>Free</td>\n",
       "      <td>0.0</td>\n",
       "      <td>Teen</td>\n",
       "      <td>Dating</td>\n",
       "    </tr>\n",
       "    <tr>\n",
       "      <th>Girls Live Talk - Free Text and Video Chat</th>\n",
       "      <td>DATING</td>\n",
       "      <td>5.0</td>\n",
       "      <td>6</td>\n",
       "      <td>5000000.0</td>\n",
       "      <td>100</td>\n",
       "      <td>Free</td>\n",
       "      <td>0.0</td>\n",
       "      <td>Mature 17+</td>\n",
       "      <td>Dating</td>\n",
       "    </tr>\n",
       "    <tr>\n",
       "      <th>Online Girls Chat Group</th>\n",
       "      <td>DATING</td>\n",
       "      <td>5.0</td>\n",
       "      <td>5</td>\n",
       "      <td>5000000.0</td>\n",
       "      <td>100</td>\n",
       "      <td>Free</td>\n",
       "      <td>0.0</td>\n",
       "      <td>Mature 17+</td>\n",
       "      <td>Dating</td>\n",
       "    </tr>\n",
       "    <tr>\n",
       "      <th>Speeding Joyride &amp; Car Meet App</th>\n",
       "      <td>DATING</td>\n",
       "      <td>5.0</td>\n",
       "      <td>3</td>\n",
       "      <td>25000000.0</td>\n",
       "      <td>100</td>\n",
       "      <td>Free</td>\n",
       "      <td>0.0</td>\n",
       "      <td>Mature 17+</td>\n",
       "      <td>Dating</td>\n",
       "    </tr>\n",
       "    <tr>\n",
       "      <th>SUMMER SONIC app</th>\n",
       "      <td>EVENTS</td>\n",
       "      <td>5.0</td>\n",
       "      <td>4</td>\n",
       "      <td>61000000.0</td>\n",
       "      <td>500</td>\n",
       "      <td>Free</td>\n",
       "      <td>0.0</td>\n",
       "      <td>Everyone</td>\n",
       "      <td>Events</td>\n",
       "    </tr>\n",
       "    <tr>\n",
       "      <th>Prosperity</th>\n",
       "      <td>EVENTS</td>\n",
       "      <td>5.0</td>\n",
       "      <td>16</td>\n",
       "      <td>2300000.0</td>\n",
       "      <td>100</td>\n",
       "      <td>Free</td>\n",
       "      <td>0.0</td>\n",
       "      <td>Everyone</td>\n",
       "      <td>Events</td>\n",
       "    </tr>\n",
       "    <tr>\n",
       "      <th>Mindvalley U Tallinn 2018</th>\n",
       "      <td>EVENTS</td>\n",
       "      <td>5.0</td>\n",
       "      <td>1</td>\n",
       "      <td>21000000.0</td>\n",
       "      <td>100</td>\n",
       "      <td>Free</td>\n",
       "      <td>0.0</td>\n",
       "      <td>Everyone</td>\n",
       "      <td>Events</td>\n",
       "    </tr>\n",
       "  </tbody>\n",
       "</table>\n",
       "</div>"
      ],
      "text/plain": [
       "                                           Category  Rating  Reviews  \\\n",
       "App                                                                    \n",
       "Hojiboy Tojiboyev Life Hacks                 COMICS     5.0       15   \n",
       "American Girls Mobile Numbers                DATING     5.0        5   \n",
       "Awake Dating                                 DATING     5.0        2   \n",
       "Spine- The dating app                        DATING     5.0        5   \n",
       "Girls Live Talk - Free Text and Video Chat   DATING     5.0        6   \n",
       "Online Girls Chat Group                      DATING     5.0        5   \n",
       "Speeding Joyride & Car Meet App              DATING     5.0        3   \n",
       "SUMMER SONIC app                             EVENTS     5.0        4   \n",
       "Prosperity                                   EVENTS     5.0       16   \n",
       "Mindvalley U Tallinn 2018                    EVENTS     5.0        1   \n",
       "\n",
       "                                                  Size  Installs  Type  Price  \\\n",
       "App                                                                             \n",
       "Hojiboy Tojiboyev Life Hacks                37000000.0      1000  Free    0.0   \n",
       "American Girls Mobile Numbers                4400000.0      1000  Free    0.0   \n",
       "Awake Dating                                70000000.0       100  Free    0.0   \n",
       "Spine- The dating app                        9300000.0       500  Free    0.0   \n",
       "Girls Live Talk - Free Text and Video Chat   5000000.0       100  Free    0.0   \n",
       "Online Girls Chat Group                      5000000.0       100  Free    0.0   \n",
       "Speeding Joyride & Car Meet App             25000000.0       100  Free    0.0   \n",
       "SUMMER SONIC app                            61000000.0       500  Free    0.0   \n",
       "Prosperity                                   2300000.0       100  Free    0.0   \n",
       "Mindvalley U Tallinn 2018                   21000000.0       100  Free    0.0   \n",
       "\n",
       "                                           Content Rating  Genres  \n",
       "App                                                                \n",
       "Hojiboy Tojiboyev Life Hacks                     Everyone  Comics  \n",
       "American Girls Mobile Numbers                  Mature 17+  Dating  \n",
       "Awake Dating                                   Mature 17+  Dating  \n",
       "Spine- The dating app                                Teen  Dating  \n",
       "Girls Live Talk - Free Text and Video Chat     Mature 17+  Dating  \n",
       "Online Girls Chat Group                        Mature 17+  Dating  \n",
       "Speeding Joyride & Car Meet App                Mature 17+  Dating  \n",
       "SUMMER SONIC app                                 Everyone  Events  \n",
       "Prosperity                                       Everyone  Events  \n",
       "Mindvalley U Tallinn 2018                        Everyone  Events  "
      ]
     },
     "execution_count": 131,
     "metadata": {},
     "output_type": "execute_result"
    }
   ],
   "source": [
    "apps_df_copy[most_rated_apps].head(10)"
   ]
  },
  {
   "cell_type": "markdown",
   "id": "c669518a",
   "metadata": {},
   "source": [
    "Top 10 Least Rated Apps"
   ]
  },
  {
   "cell_type": "code",
   "execution_count": 132,
   "id": "7872f395",
   "metadata": {},
   "outputs": [],
   "source": [
    "least_rated_apps = apps_df_copy['Rating'] <=1.0"
   ]
  },
  {
   "cell_type": "code",
   "execution_count": 133,
   "id": "2e7f3229",
   "metadata": {},
   "outputs": [
    {
     "data": {
      "text/html": [
       "<div>\n",
       "<style scoped>\n",
       "    .dataframe tbody tr th:only-of-type {\n",
       "        vertical-align: middle;\n",
       "    }\n",
       "\n",
       "    .dataframe tbody tr th {\n",
       "        vertical-align: top;\n",
       "    }\n",
       "\n",
       "    .dataframe thead th {\n",
       "        text-align: right;\n",
       "    }\n",
       "</style>\n",
       "<table border=\"1\" class=\"dataframe\">\n",
       "  <thead>\n",
       "    <tr style=\"text-align: right;\">\n",
       "      <th></th>\n",
       "      <th>Category</th>\n",
       "      <th>Rating</th>\n",
       "      <th>Reviews</th>\n",
       "      <th>Size</th>\n",
       "      <th>Installs</th>\n",
       "      <th>Type</th>\n",
       "      <th>Price</th>\n",
       "      <th>Content Rating</th>\n",
       "      <th>Genres</th>\n",
       "    </tr>\n",
       "    <tr>\n",
       "      <th>App</th>\n",
       "      <th></th>\n",
       "      <th></th>\n",
       "      <th></th>\n",
       "      <th></th>\n",
       "      <th></th>\n",
       "      <th></th>\n",
       "      <th></th>\n",
       "      <th></th>\n",
       "      <th></th>\n",
       "    </tr>\n",
       "  </thead>\n",
       "  <tbody>\n",
       "    <tr>\n",
       "      <th>House party - live chat</th>\n",
       "      <td>DATING</td>\n",
       "      <td>1.0</td>\n",
       "      <td>1</td>\n",
       "      <td>9200000.0</td>\n",
       "      <td>10</td>\n",
       "      <td>Free</td>\n",
       "      <td>0.00</td>\n",
       "      <td>Mature 17+</td>\n",
       "      <td>Dating</td>\n",
       "    </tr>\n",
       "    <tr>\n",
       "      <th>Speech Therapy: F</th>\n",
       "      <td>FAMILY</td>\n",
       "      <td>1.0</td>\n",
       "      <td>1</td>\n",
       "      <td>16000000.0</td>\n",
       "      <td>10</td>\n",
       "      <td>Paid</td>\n",
       "      <td>2.99</td>\n",
       "      <td>Everyone</td>\n",
       "      <td>Education</td>\n",
       "    </tr>\n",
       "    <tr>\n",
       "      <th>Clarksburg AH</th>\n",
       "      <td>MEDICAL</td>\n",
       "      <td>1.0</td>\n",
       "      <td>1</td>\n",
       "      <td>28000000.0</td>\n",
       "      <td>50</td>\n",
       "      <td>Free</td>\n",
       "      <td>0.00</td>\n",
       "      <td>Everyone</td>\n",
       "      <td>Medical</td>\n",
       "    </tr>\n",
       "    <tr>\n",
       "      <th>Truck Driving Test Class 3 BC</th>\n",
       "      <td>FAMILY</td>\n",
       "      <td>1.0</td>\n",
       "      <td>1</td>\n",
       "      <td>2000000.0</td>\n",
       "      <td>50</td>\n",
       "      <td>Paid</td>\n",
       "      <td>1.49</td>\n",
       "      <td>Everyone</td>\n",
       "      <td>Education</td>\n",
       "    </tr>\n",
       "    <tr>\n",
       "      <th>BJ Bridge Standard American 2018</th>\n",
       "      <td>GAME</td>\n",
       "      <td>1.0</td>\n",
       "      <td>1</td>\n",
       "      <td>4900000.0</td>\n",
       "      <td>1000</td>\n",
       "      <td>Free</td>\n",
       "      <td>0.00</td>\n",
       "      <td>Everyone</td>\n",
       "      <td>Card</td>\n",
       "    </tr>\n",
       "    <tr>\n",
       "      <th>MbH BM</th>\n",
       "      <td>MEDICAL</td>\n",
       "      <td>1.0</td>\n",
       "      <td>1</td>\n",
       "      <td>2300000.0</td>\n",
       "      <td>100</td>\n",
       "      <td>Free</td>\n",
       "      <td>0.00</td>\n",
       "      <td>Everyone</td>\n",
       "      <td>Medical</td>\n",
       "    </tr>\n",
       "    <tr>\n",
       "      <th>CB Mobile Biz</th>\n",
       "      <td>FINANCE</td>\n",
       "      <td>1.0</td>\n",
       "      <td>3</td>\n",
       "      <td>8400000.0</td>\n",
       "      <td>500</td>\n",
       "      <td>Free</td>\n",
       "      <td>0.00</td>\n",
       "      <td>Everyone</td>\n",
       "      <td>Finance</td>\n",
       "    </tr>\n",
       "    <tr>\n",
       "      <th>Thistletown CI</th>\n",
       "      <td>PRODUCTIVITY</td>\n",
       "      <td>1.0</td>\n",
       "      <td>1</td>\n",
       "      <td>6600000.0</td>\n",
       "      <td>100</td>\n",
       "      <td>Free</td>\n",
       "      <td>0.00</td>\n",
       "      <td>Everyone</td>\n",
       "      <td>Productivity</td>\n",
       "    </tr>\n",
       "    <tr>\n",
       "      <th>CJ DVD Rentals</th>\n",
       "      <td>COMMUNICATION</td>\n",
       "      <td>1.0</td>\n",
       "      <td>5</td>\n",
       "      <td>13000000.0</td>\n",
       "      <td>100</td>\n",
       "      <td>Free</td>\n",
       "      <td>0.00</td>\n",
       "      <td>Everyone</td>\n",
       "      <td>Communication</td>\n",
       "    </tr>\n",
       "    <tr>\n",
       "      <th>CR Magazine</th>\n",
       "      <td>BUSINESS</td>\n",
       "      <td>1.0</td>\n",
       "      <td>1</td>\n",
       "      <td>7800000.0</td>\n",
       "      <td>100</td>\n",
       "      <td>Free</td>\n",
       "      <td>0.00</td>\n",
       "      <td>Everyone</td>\n",
       "      <td>Business</td>\n",
       "    </tr>\n",
       "  </tbody>\n",
       "</table>\n",
       "</div>"
      ],
      "text/plain": [
       "                                       Category  Rating  Reviews        Size  \\\n",
       "App                                                                            \n",
       "House party - live chat                  DATING     1.0        1   9200000.0   \n",
       "Speech Therapy: F                        FAMILY     1.0        1  16000000.0   \n",
       "Clarksburg AH                           MEDICAL     1.0        1  28000000.0   \n",
       "Truck Driving Test Class 3 BC            FAMILY     1.0        1   2000000.0   \n",
       "BJ Bridge Standard American 2018           GAME     1.0        1   4900000.0   \n",
       "MbH BM                                  MEDICAL     1.0        1   2300000.0   \n",
       "CB Mobile Biz                           FINANCE     1.0        3   8400000.0   \n",
       "Thistletown CI                     PRODUCTIVITY     1.0        1   6600000.0   \n",
       "CJ DVD Rentals                    COMMUNICATION     1.0        5  13000000.0   \n",
       "CR Magazine                            BUSINESS     1.0        1   7800000.0   \n",
       "\n",
       "                                  Installs  Type  Price Content Rating  \\\n",
       "App                                                                      \n",
       "House party - live chat                 10  Free   0.00     Mature 17+   \n",
       "Speech Therapy: F                       10  Paid   2.99       Everyone   \n",
       "Clarksburg AH                           50  Free   0.00       Everyone   \n",
       "Truck Driving Test Class 3 BC           50  Paid   1.49       Everyone   \n",
       "BJ Bridge Standard American 2018      1000  Free   0.00       Everyone   \n",
       "MbH BM                                 100  Free   0.00       Everyone   \n",
       "CB Mobile Biz                          500  Free   0.00       Everyone   \n",
       "Thistletown CI                         100  Free   0.00       Everyone   \n",
       "CJ DVD Rentals                         100  Free   0.00       Everyone   \n",
       "CR Magazine                            100  Free   0.00       Everyone   \n",
       "\n",
       "                                         Genres  \n",
       "App                                              \n",
       "House party - live chat                  Dating  \n",
       "Speech Therapy: F                     Education  \n",
       "Clarksburg AH                           Medical  \n",
       "Truck Driving Test Class 3 BC         Education  \n",
       "BJ Bridge Standard American 2018           Card  \n",
       "MbH BM                                  Medical  \n",
       "CB Mobile Biz                           Finance  \n",
       "Thistletown CI                     Productivity  \n",
       "CJ DVD Rentals                    Communication  \n",
       "CR Magazine                            Business  "
      ]
     },
     "execution_count": 133,
     "metadata": {},
     "output_type": "execute_result"
    }
   ],
   "source": [
    "apps_df_copy[least_rated_apps].head(10)"
   ]
  },
  {
   "cell_type": "markdown",
   "id": "97ddbe0b",
   "metadata": {},
   "source": [
    "### Question 2] Which applications has the highest and lowest reviews?"
   ]
  },
  {
   "cell_type": "markdown",
   "id": "8864071f",
   "metadata": {},
   "source": [
    "Top 10 Applications with the highest Reviews "
   ]
  },
  {
   "cell_type": "code",
   "execution_count": 128,
   "id": "4ea21ad0",
   "metadata": {},
   "outputs": [],
   "source": [
    "highest_review = apps_df_copy['Reviews'].sort_values(ascending = False).head(10)"
   ]
  },
  {
   "cell_type": "code",
   "execution_count": 129,
   "id": "dd6f2a21",
   "metadata": {},
   "outputs": [
    {
     "data": {
      "text/plain": [
       "App\n",
       "Facebook                                    78158306\n",
       "Facebook                                    78128208\n",
       "WhatsApp Messenger                          69119316\n",
       "WhatsApp Messenger                          69119316\n",
       "WhatsApp Messenger                          69109672\n",
       "Instagram                                   66577446\n",
       "Instagram                                   66577313\n",
       "Instagram                                   66577313\n",
       "Instagram                                   66509917\n",
       "Messenger – Text and Video Chat for Free    56646578\n",
       "Name: Reviews, dtype: int64"
      ]
     },
     "execution_count": 129,
     "metadata": {},
     "output_type": "execute_result"
    }
   ],
   "source": [
    "highest_review"
   ]
  },
  {
   "cell_type": "markdown",
   "id": "824191d6",
   "metadata": {},
   "source": [
    "Top 10 Applications with the lowest Reviews "
   ]
  },
  {
   "cell_type": "code",
   "execution_count": 134,
   "id": "19bbccab",
   "metadata": {},
   "outputs": [],
   "source": [
    "lowest_review = apps_df_copy['Reviews'].sort_values(ascending = True).head(10)"
   ]
  },
  {
   "cell_type": "code",
   "execution_count": 136,
   "id": "34ee9cd0",
   "metadata": {},
   "outputs": [
    {
     "data": {
      "text/plain": [
       "App\n",
       "BAR-B-Q Recipes                                       0\n",
       "SHUTTLLS CQ - Connect Ride Go                         0\n",
       "CQ Ukraine                                            0\n",
       "EG | Explore Folegandros                              0\n",
       "CQ Electrical Group                                   0\n",
       "25WPM Amateur ham radio Koch CW Morse code trainer    0\n",
       "Cypress College Library                               0\n",
       "qEG APP / Química EG SRL                              0\n",
       "Create My App                                         0\n",
       "Global Shop                                           0\n",
       "Name: Reviews, dtype: int64"
      ]
     },
     "execution_count": 136,
     "metadata": {},
     "output_type": "execute_result"
    }
   ],
   "source": [
    "lowest_review"
   ]
  },
  {
   "cell_type": "markdown",
   "id": "7232a555",
   "metadata": {},
   "source": [
    "### Question 3] Which Application is the biggest in Size?"
   ]
  },
  {
   "cell_type": "code",
   "execution_count": 137,
   "id": "4bbe1167",
   "metadata": {},
   "outputs": [],
   "source": [
    "big_app = apps_df_copy['Size'].sort_values(ascending = False).head(5)"
   ]
  },
  {
   "cell_type": "code",
   "execution_count": 138,
   "id": "452aa3a0",
   "metadata": {},
   "outputs": [
    {
     "data": {
      "text/plain": [
       "App\n",
       "Mini Golf King - Multiplayer Game    100000000.0\n",
       "Ultimate Tennis                      100000000.0\n",
       "Hungry Shark Evolution               100000000.0\n",
       "SimCity BuildIt                      100000000.0\n",
       "Talking Babsy Baby: Baby Games       100000000.0\n",
       "Name: Size, dtype: float64"
      ]
     },
     "execution_count": 138,
     "metadata": {},
     "output_type": "execute_result"
    }
   ],
   "source": [
    "big_app"
   ]
  },
  {
   "cell_type": "markdown",
   "id": "3ad06d57",
   "metadata": {},
   "source": [
    "### Question 4] How many Application have more the one million Downloads?"
   ]
  },
  {
   "cell_type": "code",
   "execution_count": 139,
   "id": "f25aef58",
   "metadata": {},
   "outputs": [],
   "source": [
    "one_mil = apps_df_copy['Installs']>10e+6 "
   ]
  },
  {
   "cell_type": "code",
   "execution_count": 141,
   "id": "9c9548dc",
   "metadata": {},
   "outputs": [
    {
     "data": {
      "text/html": [
       "<div>\n",
       "<style scoped>\n",
       "    .dataframe tbody tr th:only-of-type {\n",
       "        vertical-align: middle;\n",
       "    }\n",
       "\n",
       "    .dataframe tbody tr th {\n",
       "        vertical-align: top;\n",
       "    }\n",
       "\n",
       "    .dataframe thead th {\n",
       "        text-align: right;\n",
       "    }\n",
       "</style>\n",
       "<table border=\"1\" class=\"dataframe\">\n",
       "  <thead>\n",
       "    <tr style=\"text-align: right;\">\n",
       "      <th></th>\n",
       "      <th>Category</th>\n",
       "      <th>Rating</th>\n",
       "      <th>Reviews</th>\n",
       "      <th>Size</th>\n",
       "      <th>Installs</th>\n",
       "      <th>Type</th>\n",
       "      <th>Price</th>\n",
       "      <th>Content Rating</th>\n",
       "      <th>Genres</th>\n",
       "    </tr>\n",
       "    <tr>\n",
       "      <th>App</th>\n",
       "      <th></th>\n",
       "      <th></th>\n",
       "      <th></th>\n",
       "      <th></th>\n",
       "      <th></th>\n",
       "      <th></th>\n",
       "      <th></th>\n",
       "      <th></th>\n",
       "      <th></th>\n",
       "    </tr>\n",
       "  </thead>\n",
       "  <tbody>\n",
       "    <tr>\n",
       "      <th>Sketch - Draw &amp; Paint</th>\n",
       "      <td>ART_AND_DESIGN</td>\n",
       "      <td>4.5</td>\n",
       "      <td>215644</td>\n",
       "      <td>25000000.0</td>\n",
       "      <td>50000000</td>\n",
       "      <td>Free</td>\n",
       "      <td>0.0</td>\n",
       "      <td>Teen</td>\n",
       "      <td>Art &amp; Design</td>\n",
       "    </tr>\n",
       "    <tr>\n",
       "      <th>Wattpad 📖 Free Books</th>\n",
       "      <td>BOOKS_AND_REFERENCE</td>\n",
       "      <td>4.6</td>\n",
       "      <td>2914724</td>\n",
       "      <td>NaN</td>\n",
       "      <td>100000000</td>\n",
       "      <td>Free</td>\n",
       "      <td>0.0</td>\n",
       "      <td>Teen</td>\n",
       "      <td>Books &amp; Reference</td>\n",
       "    </tr>\n",
       "    <tr>\n",
       "      <th>Amazon Kindle</th>\n",
       "      <td>BOOKS_AND_REFERENCE</td>\n",
       "      <td>4.2</td>\n",
       "      <td>814080</td>\n",
       "      <td>NaN</td>\n",
       "      <td>100000000</td>\n",
       "      <td>Free</td>\n",
       "      <td>0.0</td>\n",
       "      <td>Teen</td>\n",
       "      <td>Books &amp; Reference</td>\n",
       "    </tr>\n",
       "    <tr>\n",
       "      <th>Google Play Books</th>\n",
       "      <td>BOOKS_AND_REFERENCE</td>\n",
       "      <td>3.9</td>\n",
       "      <td>1433233</td>\n",
       "      <td>NaN</td>\n",
       "      <td>1000000000</td>\n",
       "      <td>Free</td>\n",
       "      <td>0.0</td>\n",
       "      <td>Teen</td>\n",
       "      <td>Books &amp; Reference</td>\n",
       "    </tr>\n",
       "    <tr>\n",
       "      <th>Indeed Job Search</th>\n",
       "      <td>BUSINESS</td>\n",
       "      <td>4.3</td>\n",
       "      <td>674730</td>\n",
       "      <td>NaN</td>\n",
       "      <td>50000000</td>\n",
       "      <td>Free</td>\n",
       "      <td>0.0</td>\n",
       "      <td>Everyone</td>\n",
       "      <td>Business</td>\n",
       "    </tr>\n",
       "    <tr>\n",
       "      <th>...</th>\n",
       "      <td>...</td>\n",
       "      <td>...</td>\n",
       "      <td>...</td>\n",
       "      <td>...</td>\n",
       "      <td>...</td>\n",
       "      <td>...</td>\n",
       "      <td>...</td>\n",
       "      <td>...</td>\n",
       "      <td>...</td>\n",
       "    </tr>\n",
       "    <tr>\n",
       "      <th>Talking Tom Bubble Shooter</th>\n",
       "      <td>FAMILY</td>\n",
       "      <td>4.4</td>\n",
       "      <td>687136</td>\n",
       "      <td>54000000.0</td>\n",
       "      <td>50000000</td>\n",
       "      <td>Free</td>\n",
       "      <td>0.0</td>\n",
       "      <td>Everyone</td>\n",
       "      <td>Casual</td>\n",
       "    </tr>\n",
       "    <tr>\n",
       "      <th>Flight Simulator: Fly Plane 3D</th>\n",
       "      <td>FAMILY</td>\n",
       "      <td>4.0</td>\n",
       "      <td>660613</td>\n",
       "      <td>21000000.0</td>\n",
       "      <td>50000000</td>\n",
       "      <td>Free</td>\n",
       "      <td>0.0</td>\n",
       "      <td>Everyone</td>\n",
       "      <td>Simulation</td>\n",
       "    </tr>\n",
       "    <tr>\n",
       "      <th>Toy Truck Rally 3D</th>\n",
       "      <td>GAME</td>\n",
       "      <td>4.0</td>\n",
       "      <td>301895</td>\n",
       "      <td>25000000.0</td>\n",
       "      <td>50000000</td>\n",
       "      <td>Free</td>\n",
       "      <td>0.0</td>\n",
       "      <td>Everyone</td>\n",
       "      <td>Racing</td>\n",
       "    </tr>\n",
       "    <tr>\n",
       "      <th>Motorola FM Radio</th>\n",
       "      <td>VIDEO_PLAYERS</td>\n",
       "      <td>3.9</td>\n",
       "      <td>54815</td>\n",
       "      <td>NaN</td>\n",
       "      <td>100000000</td>\n",
       "      <td>Free</td>\n",
       "      <td>0.0</td>\n",
       "      <td>Everyone</td>\n",
       "      <td>Video Players &amp; Editors</td>\n",
       "    </tr>\n",
       "    <tr>\n",
       "      <th>Photo Editor Collage Maker Pro</th>\n",
       "      <td>PHOTOGRAPHY</td>\n",
       "      <td>4.5</td>\n",
       "      <td>1519671</td>\n",
       "      <td>NaN</td>\n",
       "      <td>100000000</td>\n",
       "      <td>Free</td>\n",
       "      <td>0.0</td>\n",
       "      <td>Everyone</td>\n",
       "      <td>Photography</td>\n",
       "    </tr>\n",
       "  </tbody>\n",
       "</table>\n",
       "<p>828 rows × 9 columns</p>\n",
       "</div>"
      ],
      "text/plain": [
       "                                           Category  Rating  Reviews  \\\n",
       "App                                                                    \n",
       "Sketch - Draw & Paint                ART_AND_DESIGN     4.5   215644   \n",
       "Wattpad 📖 Free Books            BOOKS_AND_REFERENCE     4.6  2914724   \n",
       "Amazon Kindle                   BOOKS_AND_REFERENCE     4.2   814080   \n",
       "Google Play Books               BOOKS_AND_REFERENCE     3.9  1433233   \n",
       "Indeed Job Search                          BUSINESS     4.3   674730   \n",
       "...                                             ...     ...      ...   \n",
       "Talking Tom Bubble Shooter                   FAMILY     4.4   687136   \n",
       "Flight Simulator: Fly Plane 3D               FAMILY     4.0   660613   \n",
       "Toy Truck Rally 3D                             GAME     4.0   301895   \n",
       "Motorola FM Radio                     VIDEO_PLAYERS     3.9    54815   \n",
       "Photo Editor Collage Maker Pro          PHOTOGRAPHY     4.5  1519671   \n",
       "\n",
       "                                      Size    Installs  Type  Price  \\\n",
       "App                                                                   \n",
       "Sketch - Draw & Paint           25000000.0    50000000  Free    0.0   \n",
       "Wattpad 📖 Free Books                   NaN   100000000  Free    0.0   \n",
       "Amazon Kindle                          NaN   100000000  Free    0.0   \n",
       "Google Play Books                      NaN  1000000000  Free    0.0   \n",
       "Indeed Job Search                      NaN    50000000  Free    0.0   \n",
       "...                                    ...         ...   ...    ...   \n",
       "Talking Tom Bubble Shooter      54000000.0    50000000  Free    0.0   \n",
       "Flight Simulator: Fly Plane 3D  21000000.0    50000000  Free    0.0   \n",
       "Toy Truck Rally 3D              25000000.0    50000000  Free    0.0   \n",
       "Motorola FM Radio                      NaN   100000000  Free    0.0   \n",
       "Photo Editor Collage Maker Pro         NaN   100000000  Free    0.0   \n",
       "\n",
       "                               Content Rating                   Genres  \n",
       "App                                                                     \n",
       "Sketch - Draw & Paint                    Teen             Art & Design  \n",
       "Wattpad 📖 Free Books                     Teen        Books & Reference  \n",
       "Amazon Kindle                            Teen        Books & Reference  \n",
       "Google Play Books                        Teen        Books & Reference  \n",
       "Indeed Job Search                    Everyone                 Business  \n",
       "...                                       ...                      ...  \n",
       "Talking Tom Bubble Shooter           Everyone                   Casual  \n",
       "Flight Simulator: Fly Plane 3D       Everyone               Simulation  \n",
       "Toy Truck Rally 3D                   Everyone                   Racing  \n",
       "Motorola FM Radio                    Everyone  Video Players & Editors  \n",
       "Photo Editor Collage Maker Pro       Everyone              Photography  \n",
       "\n",
       "[828 rows x 9 columns]"
      ]
     },
     "execution_count": 141,
     "metadata": {},
     "output_type": "execute_result"
    }
   ],
   "source": [
    "apps_df_copy[one_mil]"
   ]
  },
  {
   "cell_type": "code",
   "execution_count": 142,
   "id": "a76d7df7",
   "metadata": {},
   "outputs": [],
   "source": [
    "len_app = len(apps_df_copy[one_mil])"
   ]
  },
  {
   "cell_type": "code",
   "execution_count": 143,
   "id": "a24f9d80",
   "metadata": {},
   "outputs": [
    {
     "name": "stdout",
     "output_type": "stream",
     "text": [
      "There are 828 apps with more than one millions downloads\n"
     ]
    }
   ],
   "source": [
    "print(\"There are {} apps with more than one millions downloads\".format(len_app))"
   ]
  },
  {
   "cell_type": "markdown",
   "id": "c8e3e716",
   "metadata": {},
   "source": [
    "### Question 5] Which is the Costliest and Cheapest Paid Application on Google Play Store?"
   ]
  },
  {
   "cell_type": "markdown",
   "id": "7ca59b11",
   "metadata": {},
   "source": [
    "Costliest Application on Google Play Store "
   ]
  },
  {
   "cell_type": "code",
   "execution_count": 146,
   "id": "15ecc9f6",
   "metadata": {},
   "outputs": [],
   "source": [
    "cost_app = apps_df_copy['Price'].sort_values(ascending = False).head(1)"
   ]
  },
  {
   "cell_type": "code",
   "execution_count": 147,
   "id": "00f5aab7",
   "metadata": {},
   "outputs": [
    {
     "data": {
      "text/plain": [
       "App\n",
       "I'm Rich - Trump Edition    400.0\n",
       "Name: Price, dtype: float64"
      ]
     },
     "execution_count": 147,
     "metadata": {},
     "output_type": "execute_result"
    }
   ],
   "source": [
    "cost_app"
   ]
  },
  {
   "cell_type": "markdown",
   "id": "6aa8d7c2",
   "metadata": {},
   "source": [
    "Cheapest Paid Application on Google Play Store"
   ]
  },
  {
   "cell_type": "code",
   "execution_count": 148,
   "id": "a1f35e51",
   "metadata": {},
   "outputs": [],
   "source": [
    "cheap_apps = apps_df_copy['Price']!=0 "
   ]
  },
  {
   "cell_type": "code",
   "execution_count": 156,
   "id": "d167226b",
   "metadata": {},
   "outputs": [
    {
     "data": {
      "text/html": [
       "<div>\n",
       "<style scoped>\n",
       "    .dataframe tbody tr th:only-of-type {\n",
       "        vertical-align: middle;\n",
       "    }\n",
       "\n",
       "    .dataframe tbody tr th {\n",
       "        vertical-align: top;\n",
       "    }\n",
       "\n",
       "    .dataframe thead th {\n",
       "        text-align: right;\n",
       "    }\n",
       "</style>\n",
       "<table border=\"1\" class=\"dataframe\">\n",
       "  <thead>\n",
       "    <tr style=\"text-align: right;\">\n",
       "      <th></th>\n",
       "      <th>Category</th>\n",
       "      <th>Rating</th>\n",
       "      <th>Reviews</th>\n",
       "      <th>Size</th>\n",
       "      <th>Installs</th>\n",
       "      <th>Type</th>\n",
       "      <th>Price</th>\n",
       "      <th>Content Rating</th>\n",
       "      <th>Genres</th>\n",
       "    </tr>\n",
       "    <tr>\n",
       "      <th>App</th>\n",
       "      <th></th>\n",
       "      <th></th>\n",
       "      <th></th>\n",
       "      <th></th>\n",
       "      <th></th>\n",
       "      <th></th>\n",
       "      <th></th>\n",
       "      <th></th>\n",
       "      <th></th>\n",
       "    </tr>\n",
       "  </thead>\n",
       "  <tbody>\n",
       "    <tr>\n",
       "      <th>Little Magnet BT Pro</th>\n",
       "      <td>TOOLS</td>\n",
       "      <td>4.6</td>\n",
       "      <td>251</td>\n",
       "      <td>3800000.0</td>\n",
       "      <td>1000</td>\n",
       "      <td>Paid</td>\n",
       "      <td>0.99</td>\n",
       "      <td>Everyone</td>\n",
       "      <td>Tools</td>\n",
       "    </tr>\n",
       "  </tbody>\n",
       "</table>\n",
       "</div>"
      ],
      "text/plain": [
       "                     Category  Rating  Reviews       Size  Installs  Type  \\\n",
       "App                                                                         \n",
       "Little Magnet BT Pro    TOOLS     4.6      251  3800000.0      1000  Paid   \n",
       "\n",
       "                      Price Content Rating Genres  \n",
       "App                                                \n",
       "Little Magnet BT Pro   0.99       Everyone  Tools  "
      ]
     },
     "execution_count": 156,
     "metadata": {},
     "output_type": "execute_result"
    }
   ],
   "source": [
    "apps_df_copy[cheap_apps].sort_values(by = 'Price',ascending = True).head(1)"
   ]
  },
  {
   "cell_type": "code",
   "execution_count": 161,
   "id": "0a227f5c",
   "metadata": {},
   "outputs": [],
   "source": [
    "!pip install jovian --upgrade --quiet"
   ]
  },
  {
   "cell_type": "code",
   "execution_count": 162,
   "id": "b3c271a4",
   "metadata": {},
   "outputs": [],
   "source": [
    "import jovian\n"
   ]
  },
  {
   "cell_type": "code",
   "execution_count": null,
   "id": "ddfb5462",
   "metadata": {},
   "outputs": [
    {
     "data": {
      "application/javascript": [
       "window.require && require([\"base/js/namespace\"],function(Jupyter){Jupyter.notebook.save_checkpoint()})"
      ],
      "text/plain": [
       "<IPython.core.display.Javascript object>"
      ]
     },
     "metadata": {},
     "output_type": "display_data"
    }
   ],
   "source": [
    "jovian.commit(outputs=['googleplaystore2.csv'])"
   ]
  },
  {
   "cell_type": "code",
   "execution_count": 160,
   "id": "a935dcc3",
   "metadata": {},
   "outputs": [
    {
     "data": {
      "application/javascript": [
       "window.require && require([\"base/js/namespace\"],function(Jupyter){Jupyter.notebook.save_checkpoint()})"
      ],
      "text/plain": [
       "<IPython.core.display.Javascript object>"
      ]
     },
     "metadata": {},
     "output_type": "display_data"
    },
    {
     "name": "stdout",
     "output_type": "stream",
     "text": [
      "[jovian] Updating notebook \"shrey2627/google-play-store-analysis\" on https://jovian.ai\u001b[0m\n",
      "[jovian] Committed successfully! https://jovian.ai/shrey2627/google-play-store-analysis\u001b[0m\n"
     ]
    },
    {
     "data": {
      "text/plain": [
       "'https://jovian.ai/shrey2627/google-play-store-analysis'"
      ]
     },
     "execution_count": 160,
     "metadata": {},
     "output_type": "execute_result"
    }
   ],
   "source": [
    "jovian.commit(project=project_name)"
   ]
  },
  {
   "cell_type": "code",
   "execution_count": null,
   "id": "9ccbfb46",
   "metadata": {},
   "outputs": [],
   "source": []
  }
 ],
 "metadata": {
  "kernelspec": {
   "display_name": "Python 3 (ipykernel)",
   "language": "python",
   "name": "python3"
  },
  "language_info": {
   "codemirror_mode": {
    "name": "ipython",
    "version": 3
   },
   "file_extension": ".py",
   "mimetype": "text/x-python",
   "name": "python",
   "nbconvert_exporter": "python",
   "pygments_lexer": "ipython3",
   "version": "3.9.6"
  }
 },
 "nbformat": 4,
 "nbformat_minor": 5
}
